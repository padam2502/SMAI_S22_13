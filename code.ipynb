{
 "cells": [
  {
   "cell_type": "markdown",
   "id": "79517d35",
   "metadata": {
    "papermill": {
     "duration": 0.045546,
     "end_time": "2022-05-03T17:16:21.048908",
     "exception": false,
     "start_time": "2022-05-03T17:16:21.003362",
     "status": "completed"
    },
    "tags": []
   },
   "source": [
    "### Imports"
   ]
  },
  {
   "cell_type": "code",
   "execution_count": 1,
   "id": "75530a6c",
   "metadata": {
    "execution": {
     "iopub.execute_input": "2022-05-03T17:16:21.145772Z",
     "iopub.status.busy": "2022-05-03T17:16:21.144296Z",
     "iopub.status.idle": "2022-05-03T17:16:35.596805Z",
     "shell.execute_reply": "2022-05-03T17:16:35.596097Z",
     "shell.execute_reply.started": "2022-05-03T16:55:09.925748Z"
    },
    "papermill": {
     "duration": 14.500341,
     "end_time": "2022-05-03T17:16:35.596945",
     "exception": false,
     "start_time": "2022-05-03T17:16:21.096604",
     "status": "completed"
    },
    "tags": []
   },
   "outputs": [
    {
     "name": "stdout",
     "output_type": "stream",
     "text": [
      "Requirement already satisfied: tensorflow-addons in /opt/conda/lib/python3.7/site-packages (0.14.0)\r\n",
      "Requirement already satisfied: typeguard>=2.7 in /opt/conda/lib/python3.7/site-packages (from tensorflow-addons) (2.13.3)\r\n",
      "\u001b[33mWARNING: Running pip as the 'root' user can result in broken permissions and conflicting behaviour with the system package manager. It is recommended to use a virtual environment instead: https://pip.pypa.io/warnings/venv\u001b[0m\r\n"
     ]
    }
   ],
   "source": [
    "import matplotlib.pyplot as plt\n",
    "import numpy as np\n",
    "from keras.datasets import cifar10\n",
    "from keras.models import Sequential\n",
    "from tensorflow.keras.layers import Normalization, Resizing, RandomWidth, RandomFlip, RandomRotation, RandomHeight, Rescaling, Input, Dropout, Dense\n",
    "from tensorflow.keras.applications.resnet_v2 import ResNet50V2, ResNet101V2\n",
    "import keras\n",
    "import tensorflow as tf\n",
    "!pip install tensorflow-addons\n",
    "import tensorflow_addons as tfa"
   ]
  },
  {
   "cell_type": "markdown",
   "id": "9fb621f2",
   "metadata": {
    "papermill": {
     "duration": 0.042931,
     "end_time": "2022-05-03T17:16:35.684207",
     "exception": false,
     "start_time": "2022-05-03T17:16:35.641276",
     "status": "completed"
    },
    "tags": []
   },
   "source": [
    "### Load CIFAR10 Dataset"
   ]
  },
  {
   "cell_type": "code",
   "execution_count": 2,
   "id": "885bd94e",
   "metadata": {
    "execution": {
     "iopub.execute_input": "2022-05-03T17:16:35.775832Z",
     "iopub.status.busy": "2022-05-03T17:16:35.775059Z",
     "iopub.status.idle": "2022-05-03T17:16:35.777114Z",
     "shell.execute_reply": "2022-05-03T17:16:35.777517Z",
     "shell.execute_reply.started": "2022-05-03T16:55:17.367759Z"
    },
    "papermill": {
     "duration": 0.050355,
     "end_time": "2022-05-03T17:16:35.777644",
     "exception": false,
     "start_time": "2022-05-03T17:16:35.727289",
     "status": "completed"
    },
    "tags": []
   },
   "outputs": [],
   "source": [
    "# load dataset\n",
    "def load_dataset():\n",
    "    (trainX, trainY), (testX, testY) = cifar10.load_data()\n",
    "    return trainX,trainY,testX,testY"
   ]
  },
  {
   "cell_type": "code",
   "execution_count": 3,
   "id": "ca1a4018",
   "metadata": {
    "execution": {
     "iopub.execute_input": "2022-05-03T17:16:35.869569Z",
     "iopub.status.busy": "2022-05-03T17:16:35.868813Z",
     "iopub.status.idle": "2022-05-03T17:16:41.770700Z",
     "shell.execute_reply": "2022-05-03T17:16:41.770187Z",
     "shell.execute_reply.started": "2022-05-03T16:55:17.374527Z"
    },
    "papermill": {
     "duration": 5.949412,
     "end_time": "2022-05-03T17:16:41.770839",
     "exception": false,
     "start_time": "2022-05-03T17:16:35.821427",
     "status": "completed"
    },
    "tags": []
   },
   "outputs": [
    {
     "name": "stdout",
     "output_type": "stream",
     "text": [
      "Downloading data from https://www.cs.toronto.edu/~kriz/cifar-10-python.tar.gz\n",
      "170500096/170498071 [==============================] - 4s 0us/step\n",
      "170508288/170498071 [==============================] - 4s 0us/step\n"
     ]
    }
   ],
   "source": [
    "trainX,trainY,testX, testY=load_dataset()"
   ]
  },
  {
   "cell_type": "code",
   "execution_count": 4,
   "id": "0338d1a1",
   "metadata": {
    "execution": {
     "iopub.execute_input": "2022-05-03T17:16:41.912812Z",
     "iopub.status.busy": "2022-05-03T17:16:41.912089Z",
     "iopub.status.idle": "2022-05-03T17:16:41.916207Z",
     "shell.execute_reply": "2022-05-03T17:16:41.915627Z",
     "shell.execute_reply.started": "2022-05-03T16:55:18.127305Z"
    },
    "papermill": {
     "duration": 0.078241,
     "end_time": "2022-05-03T17:16:41.916351",
     "exception": false,
     "start_time": "2022-05-03T17:16:41.838110",
     "status": "completed"
    },
    "tags": []
   },
   "outputs": [
    {
     "name": "stdout",
     "output_type": "stream",
     "text": [
      "(50000, 32, 32, 3)\n"
     ]
    }
   ],
   "source": [
    "print(trainX.shape)"
   ]
  },
  {
   "cell_type": "markdown",
   "id": "913bd92f",
   "metadata": {
    "papermill": {
     "duration": 0.06624,
     "end_time": "2022-05-03T17:16:42.050163",
     "exception": false,
     "start_time": "2022-05-03T17:16:41.983923",
     "status": "completed"
    },
    "tags": []
   },
   "source": [
    "### Data Augmentation Model"
   ]
  },
  {
   "cell_type": "code",
   "execution_count": 5,
   "id": "39c574ac",
   "metadata": {
    "execution": {
     "iopub.execute_input": "2022-05-03T17:16:42.189761Z",
     "iopub.status.busy": "2022-05-03T17:16:42.189251Z",
     "iopub.status.idle": "2022-05-03T17:16:44.632770Z",
     "shell.execute_reply": "2022-05-03T17:16:44.633819Z",
     "shell.execute_reply.started": "2022-05-03T16:55:18.136296Z"
    },
    "papermill": {
     "duration": 2.516612,
     "end_time": "2022-05-03T17:16:44.634080",
     "exception": false,
     "start_time": "2022-05-03T17:16:42.117468",
     "status": "completed"
    },
    "tags": []
   },
   "outputs": [
    {
     "name": "stderr",
     "output_type": "stream",
     "text": [
      "2022-05-03 17:16:42.288823: I tensorflow/stream_executor/cuda/cuda_gpu_executor.cc:937] successful NUMA node read from SysFS had negative value (-1), but there must be at least one NUMA node, so returning NUMA node zero\n",
      "2022-05-03 17:16:42.407063: I tensorflow/stream_executor/cuda/cuda_gpu_executor.cc:937] successful NUMA node read from SysFS had negative value (-1), but there must be at least one NUMA node, so returning NUMA node zero\n",
      "2022-05-03 17:16:42.407847: I tensorflow/stream_executor/cuda/cuda_gpu_executor.cc:937] successful NUMA node read from SysFS had negative value (-1), but there must be at least one NUMA node, so returning NUMA node zero\n",
      "2022-05-03 17:16:42.409163: I tensorflow/core/platform/cpu_feature_guard.cc:142] This TensorFlow binary is optimized with oneAPI Deep Neural Network Library (oneDNN) to use the following CPU instructions in performance-critical operations:  AVX2 AVX512F FMA\n",
      "To enable them in other operations, rebuild TensorFlow with the appropriate compiler flags.\n",
      "2022-05-03 17:16:42.410325: I tensorflow/stream_executor/cuda/cuda_gpu_executor.cc:937] successful NUMA node read from SysFS had negative value (-1), but there must be at least one NUMA node, so returning NUMA node zero\n",
      "2022-05-03 17:16:42.411000: I tensorflow/stream_executor/cuda/cuda_gpu_executor.cc:937] successful NUMA node read from SysFS had negative value (-1), but there must be at least one NUMA node, so returning NUMA node zero\n",
      "2022-05-03 17:16:42.411622: I tensorflow/stream_executor/cuda/cuda_gpu_executor.cc:937] successful NUMA node read from SysFS had negative value (-1), but there must be at least one NUMA node, so returning NUMA node zero\n",
      "2022-05-03 17:16:44.258494: I tensorflow/stream_executor/cuda/cuda_gpu_executor.cc:937] successful NUMA node read from SysFS had negative value (-1), but there must be at least one NUMA node, so returning NUMA node zero\n",
      "2022-05-03 17:16:44.259379: I tensorflow/stream_executor/cuda/cuda_gpu_executor.cc:937] successful NUMA node read from SysFS had negative value (-1), but there must be at least one NUMA node, so returning NUMA node zero\n",
      "2022-05-03 17:16:44.260210: I tensorflow/stream_executor/cuda/cuda_gpu_executor.cc:937] successful NUMA node read from SysFS had negative value (-1), but there must be at least one NUMA node, so returning NUMA node zero\n",
      "2022-05-03 17:16:44.260893: I tensorflow/core/common_runtime/gpu/gpu_device.cc:1510] Created device /job:localhost/replica:0/task:0/device:GPU:0 with 15403 MB memory:  -> device: 0, name: Tesla P100-PCIE-16GB, pci bus id: 0000:00:04.0, compute capability: 6.0\n"
     ]
    }
   ],
   "source": [
    "model_data_augmentation = Sequential()\n",
    "model_data_augmentation.add(Rescaling(1.0/255))\n",
    "model_data_augmentation.add(RandomWidth((0.2)))\n",
    "model_data_augmentation.add(RandomFlip(\"horizontal\"))\n",
    "model_data_augmentation.add(RandomRotation((-0.01,0.01)))\n",
    "model_data_augmentation.add(RandomHeight(0.2))\n",
    "model_data_augmentation.add(Resizing(32,32))"
   ]
  },
  {
   "cell_type": "code",
   "execution_count": 6,
   "id": "0b9b0dde",
   "metadata": {
    "execution": {
     "iopub.execute_input": "2022-05-03T17:16:44.871934Z",
     "iopub.status.busy": "2022-05-03T17:16:44.871177Z",
     "iopub.status.idle": "2022-05-03T17:16:45.084413Z",
     "shell.execute_reply": "2022-05-03T17:16:45.085298Z",
     "shell.execute_reply.started": "2022-05-03T16:55:18.163056Z"
    },
    "papermill": {
     "duration": 0.332317,
     "end_time": "2022-05-03T17:16:45.085480",
     "exception": false,
     "start_time": "2022-05-03T17:16:44.753163",
     "status": "completed"
    },
    "tags": []
   },
   "outputs": [
    {
     "name": "stdout",
     "output_type": "stream",
     "text": [
      "Model: \"sequential\"\n",
      "_________________________________________________________________\n",
      "Layer (type)                 Output Shape              Param #   \n",
      "=================================================================\n",
      "rescaling (Rescaling)        (32, 32, 3)               0         \n",
      "_________________________________________________________________\n",
      "random_width (RandomWidth)   (32, None, 3)             0         \n",
      "_________________________________________________________________\n",
      "random_flip (RandomFlip)     (32, None, 3)             0         \n",
      "_________________________________________________________________\n",
      "random_rotation (RandomRotat (32, None, 3)             0         \n",
      "_________________________________________________________________\n",
      "random_height (RandomHeight) (None, None, 3)           0         \n",
      "_________________________________________________________________\n",
      "resizing (Resizing)          (32, 32, 3)               0         \n",
      "=================================================================\n",
      "Total params: 0\n",
      "Trainable params: 0\n",
      "Non-trainable params: 0\n",
      "_________________________________________________________________\n"
     ]
    }
   ],
   "source": [
    "model_data_augmentation.build(input_shape=(32,32,3))\n",
    "model_data_augmentation.summary()"
   ]
  },
  {
   "cell_type": "code",
   "execution_count": 7,
   "id": "eac22e1d",
   "metadata": {
    "execution": {
     "iopub.execute_input": "2022-05-03T17:16:45.226640Z",
     "iopub.status.busy": "2022-05-03T17:16:45.225862Z",
     "iopub.status.idle": "2022-05-03T17:16:45.823142Z",
     "shell.execute_reply": "2022-05-03T17:16:45.823748Z",
     "shell.execute_reply.started": "2022-05-03T16:55:18.299224Z"
    },
    "papermill": {
     "duration": 0.66986,
     "end_time": "2022-05-03T17:16:45.823926",
     "exception": false,
     "start_time": "2022-05-03T17:16:45.154066",
     "status": "completed"
    },
    "tags": []
   },
   "outputs": [],
   "source": [
    "augmented_images = model_data_augmentation(trainX)"
   ]
  },
  {
   "cell_type": "code",
   "execution_count": 8,
   "id": "7a3aa276",
   "metadata": {
    "execution": {
     "iopub.execute_input": "2022-05-03T17:16:45.964188Z",
     "iopub.status.busy": "2022-05-03T17:16:45.963447Z",
     "iopub.status.idle": "2022-05-03T17:16:46.058026Z",
     "shell.execute_reply": "2022-05-03T17:16:46.057538Z",
     "shell.execute_reply.started": "2022-05-03T16:55:18.843622Z"
    },
    "papermill": {
     "duration": 0.165988,
     "end_time": "2022-05-03T17:16:46.058167",
     "exception": false,
     "start_time": "2022-05-03T17:16:45.892179",
     "status": "completed"
    },
    "tags": []
   },
   "outputs": [],
   "source": [
    "aug_test=model_data_augmentation(testX)"
   ]
  },
  {
   "cell_type": "code",
   "execution_count": 9,
   "id": "b2727331",
   "metadata": {
    "execution": {
     "iopub.execute_input": "2022-05-03T17:16:46.273858Z",
     "iopub.status.busy": "2022-05-03T17:16:46.271557Z",
     "iopub.status.idle": "2022-05-03T17:16:46.522472Z",
     "shell.execute_reply": "2022-05-03T17:16:46.522032Z",
     "shell.execute_reply.started": "2022-05-03T16:55:18.947546Z"
    },
    "papermill": {
     "duration": 0.383372,
     "end_time": "2022-05-03T17:16:46.522592",
     "exception": false,
     "start_time": "2022-05-03T17:16:46.139220",
     "status": "completed"
    },
    "tags": []
   },
   "outputs": [
    {
     "data": {
      "text/plain": [
       "<matplotlib.image.AxesImage at 0x7f5a0a2572d0>"
      ]
     },
     "execution_count": 9,
     "metadata": {},
     "output_type": "execute_result"
    },
    {
     "data": {
      "image/png": "[encoded data removed]",
      "text/plain": [
       "<Figure size 432x288 with 1 Axes>"
      ]
     },
     "metadata": {
      "needs_background": "light"
     },
     "output_type": "display_data"
    }
   ],
   "source": [
    "plt.imshow(trainX[5])"
   ]
  },
  {
   "cell_type": "code",
   "execution_count": 10,
   "id": "cfc98514",
   "metadata": {
    "execution": {
     "iopub.execute_input": "2022-05-03T17:16:46.665389Z",
     "iopub.status.busy": "2022-05-03T17:16:46.664705Z",
     "iopub.status.idle": "2022-05-03T17:16:46.856530Z",
     "shell.execute_reply": "2022-05-03T17:16:46.855709Z",
     "shell.execute_reply.started": "2022-05-03T16:55:19.142828Z"
    },
    "papermill": {
     "duration": 0.265309,
     "end_time": "2022-05-03T17:16:46.856655",
     "exception": false,
     "start_time": "2022-05-03T17:16:46.591346",
     "status": "completed"
    },
    "tags": []
   },
   "outputs": [
    {
     "data": {
      "text/plain": [
       "<matplotlib.image.AxesImage at 0x7f5a082bdb10>"
      ]
     },
     "execution_count": 10,
     "metadata": {},
     "output_type": "execute_result"
    },
    {
     "data": {
      "image/png": "[encoded data removed]",
      "text/plain": [
       "<Figure size 432x288 with 1 Axes>"
      ]
     },
     "metadata": {
      "needs_background": "light"
     },
     "output_type": "display_data"
    }
   ],
   "source": [
    "plt.imshow(augmented_images[5])"
   ]
  },
  {
   "cell_type": "code",
   "execution_count": 11,
   "id": "44f9f07e",
   "metadata": {
    "execution": {
     "iopub.execute_input": "2022-05-03T17:16:47.004443Z",
     "iopub.status.busy": "2022-05-03T17:16:47.003641Z",
     "iopub.status.idle": "2022-05-03T17:16:47.006281Z",
     "shell.execute_reply": "2022-05-03T17:16:47.005786Z",
     "shell.execute_reply.started": "2022-05-03T16:55:19.328571Z"
    },
    "papermill": {
     "duration": 0.077964,
     "end_time": "2022-05-03T17:16:47.006394",
     "exception": false,
     "start_time": "2022-05-03T17:16:46.928430",
     "status": "completed"
    },
    "tags": []
   },
   "outputs": [],
   "source": [
    "input_shape=(augmented_images.shape)"
   ]
  },
  {
   "cell_type": "code",
   "execution_count": 12,
   "id": "bb24d6a5",
   "metadata": {
    "execution": {
     "iopub.execute_input": "2022-05-03T17:16:47.151718Z",
     "iopub.status.busy": "2022-05-03T17:16:47.150175Z",
     "iopub.status.idle": "2022-05-03T17:16:47.154126Z",
     "shell.execute_reply": "2022-05-03T17:16:47.153489Z",
     "shell.execute_reply.started": "2022-05-03T16:55:19.335134Z"
    },
    "papermill": {
     "duration": 0.078091,
     "end_time": "2022-05-03T17:16:47.154265",
     "exception": false,
     "start_time": "2022-05-03T17:16:47.076174",
     "status": "completed"
    },
    "tags": []
   },
   "outputs": [
    {
     "name": "stdout",
     "output_type": "stream",
     "text": [
      "(50000, 32, 32, 3)\n"
     ]
    }
   ],
   "source": [
    "print(input_shape)"
   ]
  },
  {
   "cell_type": "markdown",
   "id": "27be4d2c",
   "metadata": {
    "papermill": {
     "duration": 0.070837,
     "end_time": "2022-05-03T17:16:47.296651",
     "exception": false,
     "start_time": "2022-05-03T17:16:47.225814",
     "status": "completed"
    },
    "tags": []
   },
   "source": [
    "### Helper Functions"
   ]
  },
  {
   "cell_type": "code",
   "execution_count": 13,
   "id": "5731298a",
   "metadata": {
    "execution": {
     "iopub.execute_input": "2022-05-03T17:16:47.444843Z",
     "iopub.status.busy": "2022-05-03T17:16:47.444054Z",
     "iopub.status.idle": "2022-05-03T17:16:47.446556Z",
     "shell.execute_reply": "2022-05-03T17:16:47.446095Z",
     "shell.execute_reply.started": "2022-05-03T16:55:19.778775Z"
    },
    "papermill": {
     "duration": 0.079478,
     "end_time": "2022-05-03T17:16:47.446658",
     "exception": false,
     "start_time": "2022-05-03T17:16:47.367180",
     "status": "completed"
    },
    "tags": []
   },
   "outputs": [],
   "source": [
    "def plot_metric(model, metric):\n",
    "    train_metrics = model.history[metric]\n",
    "    val_metrics = model.history['val_'+metric]\n",
    "    epochs = range(1, len(train_metrics) + 1)\n",
    "    plt.plot(epochs, train_metrics)\n",
    "    plt.plot(epochs, val_metrics)\n",
    "    plt.title('Train & Val '+ metric)\n",
    "    plt.xlabel(\"Epochs\")\n",
    "    plt.ylabel(metric)\n",
    "    plt.legend([\"train_\"+metric, 'val_'+metric])\n",
    "    plt.show()"
   ]
  },
  {
   "cell_type": "code",
   "execution_count": 14,
   "id": "2339a640",
   "metadata": {
    "execution": {
     "iopub.execute_input": "2022-05-03T17:16:47.592249Z",
     "iopub.status.busy": "2022-05-03T17:16:47.591504Z",
     "iopub.status.idle": "2022-05-03T17:16:47.594046Z",
     "shell.execute_reply": "2022-05-03T17:16:47.593568Z",
     "shell.execute_reply.started": "2022-05-03T16:55:20.336022Z"
    },
    "papermill": {
     "duration": 0.077428,
     "end_time": "2022-05-03T17:16:47.594163",
     "exception": false,
     "start_time": "2022-05-03T17:16:47.516735",
     "status": "completed"
    },
    "tags": []
   },
   "outputs": [],
   "source": [
    "def plot_metric_mult(models, metric, labels):\n",
    "    train_metrics = []\n",
    "    for model in models:\n",
    "        train_metrics.append(model.history[metric])\n",
    "    epochs = range(1, len(train_metrics[0]) + 1)\n",
    "    for train_metric in train_metrics:\n",
    "        plt.plot(epochs, train_metric)\n",
    "    plt.title('Train '+ metric)\n",
    "    plt.xlabel(\"Epochs\")\n",
    "    plt.ylabel(metric)\n",
    "    plt.legend(labels)\n",
    "    plt.show()"
   ]
  },
  {
   "cell_type": "markdown",
   "id": "0baec604",
   "metadata": {
    "papermill": {
     "duration": 0.069848,
     "end_time": "2022-05-03T17:16:47.734122",
     "exception": false,
     "start_time": "2022-05-03T17:16:47.664274",
     "status": "completed"
    },
    "tags": []
   },
   "source": [
    "### ResNet50V2 Encoder Model Import"
   ]
  },
  {
   "cell_type": "code",
   "execution_count": 15,
   "id": "3c6a1e38",
   "metadata": {
    "execution": {
     "iopub.execute_input": "2022-05-03T17:16:47.878679Z",
     "iopub.status.busy": "2022-05-03T17:16:47.878165Z",
     "iopub.status.idle": "2022-05-03T17:16:47.881910Z",
     "shell.execute_reply": "2022-05-03T17:16:47.881474Z",
     "shell.execute_reply.started": "2022-05-03T16:55:21.367533Z"
    },
    "papermill": {
     "duration": 0.078517,
     "end_time": "2022-05-03T17:16:47.882038",
     "exception": false,
     "start_time": "2022-05-03T17:16:47.803521",
     "status": "completed"
    },
    "tags": []
   },
   "outputs": [],
   "source": [
    "batch_size = 256\n",
    "epochs = 50\n",
    "val_split = 0.2"
   ]
  },
  {
   "cell_type": "code",
   "execution_count": 16,
   "id": "5c40b70f",
   "metadata": {
    "execution": {
     "iopub.execute_input": "2022-05-03T17:16:48.028669Z",
     "iopub.status.busy": "2022-05-03T17:16:48.027603Z",
     "iopub.status.idle": "2022-05-03T17:16:48.029646Z",
     "shell.execute_reply": "2022-05-03T17:16:48.030090Z",
     "shell.execute_reply.started": "2022-05-03T16:55:21.886351Z"
    },
    "papermill": {
     "duration": 0.077745,
     "end_time": "2022-05-03T17:16:48.030228",
     "exception": false,
     "start_time": "2022-05-03T17:16:47.952483",
     "status": "completed"
    },
    "tags": []
   },
   "outputs": [],
   "source": [
    "def create_encoder():\n",
    "    resnet_model=ResNet50V2(include_top=False, weights=None, input_shape=(32, 32, 3), pooling='avg')\n",
    "    model=Sequential(name = 'ResNet_Model_50')\n",
    "    model.add(resnet_model)\n",
    "    model.build(input_shape=input_shape)\n",
    "    return model"
   ]
  },
  {
   "cell_type": "code",
   "execution_count": 17,
   "id": "42df1e29",
   "metadata": {
    "execution": {
     "iopub.execute_input": "2022-05-03T17:16:48.175705Z",
     "iopub.status.busy": "2022-05-03T17:16:48.174907Z",
     "iopub.status.idle": "2022-05-03T17:16:48.176928Z",
     "shell.execute_reply": "2022-05-03T17:16:48.177349Z",
     "shell.execute_reply.started": "2022-05-03T16:55:23.374435Z"
    },
    "papermill": {
     "duration": 0.076883,
     "end_time": "2022-05-03T17:16:48.177476",
     "exception": false,
     "start_time": "2022-05-03T17:16:48.100593",
     "status": "completed"
    },
    "tags": []
   },
   "outputs": [],
   "source": [
    "def create_encoder_101():\n",
    "    resnet_model=ResNet101V2(include_top=False, weights=None, input_shape=(32, 32, 3), pooling='avg')\n",
    "    model=Sequential(name = 'ResNet_Model_101')\n",
    "    model.add(resnet_model)\n",
    "    model.build(input_shape=input_shape)\n",
    "    return model"
   ]
  },
  {
   "cell_type": "markdown",
   "id": "eff24d17",
   "metadata": {
    "papermill": {
     "duration": 0.070014,
     "end_time": "2022-05-03T17:16:48.318421",
     "exception": false,
     "start_time": "2022-05-03T17:16:48.248407",
     "status": "completed"
    },
    "tags": []
   },
   "source": [
    "### Classification Model Built on top of ResNet50"
   ]
  },
  {
   "cell_type": "code",
   "execution_count": 18,
   "id": "6937618e",
   "metadata": {
    "execution": {
     "iopub.execute_input": "2022-05-03T17:16:48.467258Z",
     "iopub.status.busy": "2022-05-03T17:16:48.466505Z",
     "iopub.status.idle": "2022-05-03T17:16:48.468501Z",
     "shell.execute_reply": "2022-05-03T17:16:48.468869Z",
     "shell.execute_reply.started": "2022-05-03T16:56:19.110874Z"
    },
    "papermill": {
     "duration": 0.080975,
     "end_time": "2022-05-03T17:16:48.469007",
     "exception": false,
     "start_time": "2022-05-03T17:16:48.388032",
     "status": "completed"
    },
    "tags": []
   },
   "outputs": [],
   "source": [
    "def define_model(encoder, model_name, optimizer_val):\n",
    "    model=Sequential(name = model_name)\n",
    "    model.add(encoder)\n",
    "    model.add(Dropout(0.5))\n",
    "    model.add(Dense(512,activation=\"relu\"))\n",
    "    model.add(Dropout(0.5))\n",
    "    model.add(Dense(10, activation=\"softmax\"))\n",
    "    model.compile(optimizer=optimizer_val, loss='sparse_categorical_crossentropy',metrics=[\"sparse_categorical_accuracy\"])\n",
    "    return model"
   ]
  },
  {
   "cell_type": "code",
   "execution_count": 19,
   "id": "d4ee29ca",
   "metadata": {
    "execution": {
     "iopub.execute_input": "2022-05-03T17:16:48.619692Z",
     "iopub.status.busy": "2022-05-03T17:16:48.618935Z",
     "iopub.status.idle": "2022-05-03T17:16:50.123017Z",
     "shell.execute_reply": "2022-05-03T17:16:50.122559Z",
     "shell.execute_reply.started": "2022-05-03T16:56:45.126689Z"
    },
    "papermill": {
     "duration": 1.583514,
     "end_time": "2022-05-03T17:16:50.123162",
     "exception": false,
     "start_time": "2022-05-03T17:16:48.539648",
     "status": "completed"
    },
    "tags": []
   },
   "outputs": [
    {
     "name": "stdout",
     "output_type": "stream",
     "text": [
      "Model: \"ResNet_Model_50\"\n",
      "_________________________________________________________________\n",
      "Layer (type)                 Output Shape              Param #   \n",
      "=================================================================\n",
      "resnet50v2 (Functional)      (None, 2048)              23564800  \n",
      "=================================================================\n",
      "Total params: 23,564,800\n",
      "Trainable params: 23,519,360\n",
      "Non-trainable params: 45,440\n",
      "_________________________________________________________________\n",
      "Model: \"Classification_Model_CrossEntropy\"\n",
      "_________________________________________________________________\n",
      "Layer (type)                 Output Shape              Param #   \n",
      "=================================================================\n",
      "ResNet_Model_50 (Sequential) (None, 2048)              23564800  \n",
      "_________________________________________________________________\n",
      "dropout (Dropout)            (None, 2048)              0         \n",
      "_________________________________________________________________\n",
      "dense (Dense)                (None, 512)               1049088   \n",
      "_________________________________________________________________\n",
      "dropout_1 (Dropout)          (None, 512)               0         \n",
      "_________________________________________________________________\n",
      "dense_1 (Dense)              (None, 10)                5130      \n",
      "=================================================================\n",
      "Total params: 24,619,018\n",
      "Trainable params: 24,573,578\n",
      "Non-trainable params: 45,440\n",
      "_________________________________________________________________\n"
     ]
    }
   ],
   "source": [
    "encoder_resnet = create_encoder()\n",
    "for layer in encoder_resnet.layers:\n",
    "    layer.trainable = True\n",
    "encoder_resnet.summary()\n",
    "model_cel = define_model(encoder_resnet,'Classification_Model_CrossEntropy','adam')\n",
    "model_cel.summary()"
   ]
  },
  {
   "cell_type": "code",
   "execution_count": 20,
   "id": "4e043939",
   "metadata": {
    "execution": {
     "iopub.execute_input": "2022-05-03T17:16:50.281286Z",
     "iopub.status.busy": "2022-05-03T17:16:50.278490Z",
     "iopub.status.idle": "2022-05-03T17:27:16.961602Z",
     "shell.execute_reply": "2022-05-03T17:27:16.962081Z",
     "shell.execute_reply.started": "2022-05-03T16:56:55.196333Z"
    },
    "papermill": {
     "duration": 626.767671,
     "end_time": "2022-05-03T17:27:16.962273",
     "exception": false,
     "start_time": "2022-05-03T17:16:50.194602",
     "status": "completed"
    },
    "tags": []
   },
   "outputs": [
    {
     "name": "stderr",
     "output_type": "stream",
     "text": [
      "2022-05-03 17:16:50.708763: I tensorflow/compiler/mlir/mlir_graph_optimization_pass.cc:185] None of the MLIR Optimization Passes are enabled (registered 2)\n"
     ]
    },
    {
     "name": "stdout",
     "output_type": "stream",
     "text": [
      "Epoch 1/50\n"
     ]
    },
    {
     "name": "stderr",
     "output_type": "stream",
     "text": [
      "2022-05-03 17:16:55.892863: I tensorflow/stream_executor/cuda/cuda_dnn.cc:369] Loaded cuDNN version 8005\n"
     ]
    },
    {
     "name": "stdout",
     "output_type": "stream",
     "text": [
      "157/157 [==============================] - 25s 82ms/step - loss: 1.9223 - sparse_categorical_accuracy: 0.3031 - val_loss: 3.1062 - val_sparse_categorical_accuracy: 0.1604\n",
      "Epoch 2/50\n",
      "157/157 [==============================] - 11s 72ms/step - loss: 1.4855 - sparse_categorical_accuracy: 0.4703 - val_loss: 2.8865 - val_sparse_categorical_accuracy: 0.2102\n",
      "Epoch 3/50\n",
      "157/157 [==============================] - 12s 75ms/step - loss: 1.3900 - sparse_categorical_accuracy: 0.5053 - val_loss: 2.1447 - val_sparse_categorical_accuracy: 0.3045\n",
      "Epoch 4/50\n",
      "157/157 [==============================] - 11s 72ms/step - loss: 1.2112 - sparse_categorical_accuracy: 0.5747 - val_loss: 1.7580 - val_sparse_categorical_accuracy: 0.4380\n",
      "Epoch 5/50\n",
      "157/157 [==============================] - 11s 73ms/step - loss: 1.0878 - sparse_categorical_accuracy: 0.6234 - val_loss: 1.4387 - val_sparse_categorical_accuracy: 0.5202\n",
      "Epoch 6/50\n",
      "157/157 [==============================] - 11s 73ms/step - loss: 1.0310 - sparse_categorical_accuracy: 0.6452 - val_loss: 1.6739 - val_sparse_categorical_accuracy: 0.4702\n",
      "Epoch 7/50\n",
      "157/157 [==============================] - 11s 73ms/step - loss: 0.9397 - sparse_categorical_accuracy: 0.6776 - val_loss: 1.8430 - val_sparse_categorical_accuracy: 0.4811\n",
      "Epoch 8/50\n",
      "157/157 [==============================] - 11s 73ms/step - loss: 0.8005 - sparse_categorical_accuracy: 0.7271 - val_loss: 1.2252 - val_sparse_categorical_accuracy: 0.5933\n",
      "Epoch 9/50\n",
      "157/157 [==============================] - 11s 73ms/step - loss: 0.8246 - sparse_categorical_accuracy: 0.7204 - val_loss: 8.9047 - val_sparse_categorical_accuracy: 0.1739\n",
      "Epoch 10/50\n",
      "157/157 [==============================] - 11s 73ms/step - loss: 0.8151 - sparse_categorical_accuracy: 0.7259 - val_loss: 1.2163 - val_sparse_categorical_accuracy: 0.6097\n",
      "Epoch 11/50\n",
      "157/157 [==============================] - 11s 73ms/step - loss: 0.6950 - sparse_categorical_accuracy: 0.7649 - val_loss: 1.3359 - val_sparse_categorical_accuracy: 0.5751\n",
      "Epoch 12/50\n",
      "157/157 [==============================] - 12s 74ms/step - loss: 0.6760 - sparse_categorical_accuracy: 0.7750 - val_loss: 1.4284 - val_sparse_categorical_accuracy: 0.5731\n",
      "Epoch 13/50\n",
      "157/157 [==============================] - 12s 73ms/step - loss: 0.5903 - sparse_categorical_accuracy: 0.8046 - val_loss: 2.3534 - val_sparse_categorical_accuracy: 0.3818\n",
      "Epoch 14/50\n",
      "157/157 [==============================] - 12s 73ms/step - loss: 0.6327 - sparse_categorical_accuracy: 0.7912 - val_loss: 1.7184 - val_sparse_categorical_accuracy: 0.5404\n",
      "Epoch 15/50\n",
      "157/157 [==============================] - 11s 73ms/step - loss: 0.4761 - sparse_categorical_accuracy: 0.8425 - val_loss: 1.3210 - val_sparse_categorical_accuracy: 0.6311\n",
      "Epoch 16/50\n",
      "157/157 [==============================] - 11s 72ms/step - loss: 0.3512 - sparse_categorical_accuracy: 0.8849 - val_loss: 1.3802 - val_sparse_categorical_accuracy: 0.6455\n",
      "Epoch 17/50\n",
      "157/157 [==============================] - 11s 72ms/step - loss: 0.2996 - sparse_categorical_accuracy: 0.9003 - val_loss: 1.5953 - val_sparse_categorical_accuracy: 0.5977\n",
      "Epoch 18/50\n",
      "157/157 [==============================] - 11s 73ms/step - loss: 0.2576 - sparse_categorical_accuracy: 0.9152 - val_loss: 1.6691 - val_sparse_categorical_accuracy: 0.5980\n",
      "Epoch 19/50\n",
      "157/157 [==============================] - 11s 72ms/step - loss: 0.2372 - sparse_categorical_accuracy: 0.9217 - val_loss: 1.5780 - val_sparse_categorical_accuracy: 0.6522\n",
      "Epoch 20/50\n",
      "157/157 [==============================] - 12s 75ms/step - loss: 0.2106 - sparse_categorical_accuracy: 0.9296 - val_loss: 1.4357 - val_sparse_categorical_accuracy: 0.6601\n",
      "Epoch 21/50\n",
      "157/157 [==============================] - 12s 74ms/step - loss: 0.1948 - sparse_categorical_accuracy: 0.9356 - val_loss: 1.7143 - val_sparse_categorical_accuracy: 0.6273\n",
      "Epoch 22/50\n",
      "157/157 [==============================] - 11s 72ms/step - loss: 0.1719 - sparse_categorical_accuracy: 0.9424 - val_loss: 1.8725 - val_sparse_categorical_accuracy: 0.6035\n",
      "Epoch 23/50\n",
      "157/157 [==============================] - 12s 75ms/step - loss: 0.1664 - sparse_categorical_accuracy: 0.9446 - val_loss: 1.5884 - val_sparse_categorical_accuracy: 0.6604\n",
      "Epoch 24/50\n",
      "157/157 [==============================] - 12s 74ms/step - loss: 0.1556 - sparse_categorical_accuracy: 0.9474 - val_loss: 1.8361 - val_sparse_categorical_accuracy: 0.6371\n",
      "Epoch 25/50\n",
      "157/157 [==============================] - 11s 72ms/step - loss: 0.1361 - sparse_categorical_accuracy: 0.9539 - val_loss: 1.6563 - val_sparse_categorical_accuracy: 0.6543\n",
      "Epoch 26/50\n",
      "157/157 [==============================] - 11s 73ms/step - loss: 0.1264 - sparse_categorical_accuracy: 0.9579 - val_loss: 1.7762 - val_sparse_categorical_accuracy: 0.6385\n",
      "Epoch 27/50\n",
      "157/157 [==============================] - 11s 73ms/step - loss: 0.1252 - sparse_categorical_accuracy: 0.9585 - val_loss: 1.8835 - val_sparse_categorical_accuracy: 0.6698\n",
      "Epoch 28/50\n",
      "157/157 [==============================] - 11s 72ms/step - loss: 0.1210 - sparse_categorical_accuracy: 0.9607 - val_loss: 1.7746 - val_sparse_categorical_accuracy: 0.6425\n",
      "Epoch 29/50\n",
      "157/157 [==============================] - 12s 75ms/step - loss: 0.1223 - sparse_categorical_accuracy: 0.9604 - val_loss: 1.8605 - val_sparse_categorical_accuracy: 0.6421\n",
      "Epoch 30/50\n",
      "157/157 [==============================] - 12s 73ms/step - loss: 0.1097 - sparse_categorical_accuracy: 0.9641 - val_loss: 1.7938 - val_sparse_categorical_accuracy: 0.6508\n",
      "Epoch 31/50\n",
      "157/157 [==============================] - 11s 73ms/step - loss: 0.0999 - sparse_categorical_accuracy: 0.9670 - val_loss: 1.7902 - val_sparse_categorical_accuracy: 0.6640\n",
      "Epoch 32/50\n",
      "157/157 [==============================] - 12s 76ms/step - loss: 0.1007 - sparse_categorical_accuracy: 0.9660 - val_loss: 1.7107 - val_sparse_categorical_accuracy: 0.6612\n",
      "Epoch 33/50\n",
      "157/157 [==============================] - 11s 73ms/step - loss: 0.0970 - sparse_categorical_accuracy: 0.9679 - val_loss: 1.7911 - val_sparse_categorical_accuracy: 0.6429\n",
      "Epoch 34/50\n",
      "157/157 [==============================] - 11s 73ms/step - loss: 0.0921 - sparse_categorical_accuracy: 0.9693 - val_loss: 1.9555 - val_sparse_categorical_accuracy: 0.6437\n",
      "Epoch 35/50\n",
      "157/157 [==============================] - 12s 74ms/step - loss: 0.0898 - sparse_categorical_accuracy: 0.9704 - val_loss: 1.9310 - val_sparse_categorical_accuracy: 0.6517\n",
      "Epoch 36/50\n",
      "157/157 [==============================] - 11s 73ms/step - loss: 0.0841 - sparse_categorical_accuracy: 0.9725 - val_loss: 1.9515 - val_sparse_categorical_accuracy: 0.6247\n",
      "Epoch 37/50\n",
      "157/157 [==============================] - 12s 73ms/step - loss: 0.0901 - sparse_categorical_accuracy: 0.9709 - val_loss: 2.2746 - val_sparse_categorical_accuracy: 0.6047\n",
      "Epoch 38/50\n",
      "157/157 [==============================] - 12s 74ms/step - loss: 0.1259 - sparse_categorical_accuracy: 0.9597 - val_loss: 2.3774 - val_sparse_categorical_accuracy: 0.6277\n",
      "Epoch 39/50\n",
      "157/157 [==============================] - 11s 73ms/step - loss: 0.0847 - sparse_categorical_accuracy: 0.9728 - val_loss: 1.8611 - val_sparse_categorical_accuracy: 0.6569\n",
      "Epoch 40/50\n",
      "157/157 [==============================] - 12s 74ms/step - loss: 0.0724 - sparse_categorical_accuracy: 0.9759 - val_loss: 1.9966 - val_sparse_categorical_accuracy: 0.6373\n",
      "Epoch 41/50\n",
      "157/157 [==============================] - 12s 75ms/step - loss: 0.0745 - sparse_categorical_accuracy: 0.9765 - val_loss: 1.7822 - val_sparse_categorical_accuracy: 0.6695\n",
      "Epoch 42/50\n",
      "157/157 [==============================] - 11s 73ms/step - loss: 0.0691 - sparse_categorical_accuracy: 0.9775 - val_loss: 1.8397 - val_sparse_categorical_accuracy: 0.6718\n",
      "Epoch 43/50\n",
      "157/157 [==============================] - 12s 73ms/step - loss: 0.0770 - sparse_categorical_accuracy: 0.9761 - val_loss: 1.9175 - val_sparse_categorical_accuracy: 0.6611\n",
      "Epoch 44/50\n",
      "157/157 [==============================] - 12s 74ms/step - loss: 0.0702 - sparse_categorical_accuracy: 0.9773 - val_loss: 1.8884 - val_sparse_categorical_accuracy: 0.6512\n",
      "Epoch 45/50\n",
      "157/157 [==============================] - 11s 73ms/step - loss: 0.0655 - sparse_categorical_accuracy: 0.9789 - val_loss: 1.8309 - val_sparse_categorical_accuracy: 0.6619\n",
      "Epoch 46/50\n",
      "157/157 [==============================] - 11s 73ms/step - loss: 0.0605 - sparse_categorical_accuracy: 0.9797 - val_loss: 2.1733 - val_sparse_categorical_accuracy: 0.6308\n",
      "Epoch 47/50\n",
      "157/157 [==============================] - 11s 73ms/step - loss: 0.0608 - sparse_categorical_accuracy: 0.9800 - val_loss: 1.8995 - val_sparse_categorical_accuracy: 0.6700\n",
      "Epoch 48/50\n",
      "157/157 [==============================] - 11s 72ms/step - loss: 0.0715 - sparse_categorical_accuracy: 0.9769 - val_loss: 2.0386 - val_sparse_categorical_accuracy: 0.6578\n",
      "Epoch 49/50\n",
      "157/157 [==============================] - 11s 73ms/step - loss: 0.0623 - sparse_categorical_accuracy: 0.9798 - val_loss: 1.8468 - val_sparse_categorical_accuracy: 0.6679\n",
      "Epoch 50/50\n",
      "157/157 [==============================] - 11s 73ms/step - loss: 0.0762 - sparse_categorical_accuracy: 0.9751 - val_loss: 1.8183 - val_sparse_categorical_accuracy: 0.6748\n"
     ]
    }
   ],
   "source": [
    "history_cel = model_cel.fit(augmented_images, trainY, batch_size=batch_size, epochs=epochs, validation_split=val_split, verbose=1)"
   ]
  },
  {
   "cell_type": "code",
   "execution_count": 21,
   "id": "96835b44",
   "metadata": {
    "execution": {
     "iopub.execute_input": "2022-05-03T17:27:22.018798Z",
     "iopub.status.busy": "2022-05-03T17:27:22.018012Z",
     "iopub.status.idle": "2022-05-03T17:27:26.633869Z",
     "shell.execute_reply": "2022-05-03T17:27:26.633418Z",
     "shell.execute_reply.started": "2022-05-03T16:58:22.126475Z"
    },
    "papermill": {
     "duration": 7.148746,
     "end_time": "2022-05-03T17:27:26.634008",
     "exception": false,
     "start_time": "2022-05-03T17:27:19.485262",
     "status": "completed"
    },
    "tags": []
   },
   "outputs": [
    {
     "name": "stdout",
     "output_type": "stream",
     "text": [
      "313/313 [==============================] - 4s 14ms/step - loss: 1.8450 - sparse_categorical_accuracy: 0.6707\n"
     ]
    },
    {
     "data": {
      "text/plain": [
       "[1.8449790477752686, 0.6707000136375427]"
      ]
     },
     "execution_count": 21,
     "metadata": {},
     "output_type": "execute_result"
    }
   ],
   "source": [
    "model_cel.evaluate(aug_test,testY)"
   ]
  },
  {
   "cell_type": "code",
   "execution_count": 22,
   "id": "5aa5e767",
   "metadata": {
    "execution": {
     "iopub.execute_input": "2022-05-03T17:27:32.322646Z",
     "iopub.status.busy": "2022-05-03T17:27:32.316167Z",
     "iopub.status.idle": "2022-05-03T17:27:32.476714Z",
     "shell.execute_reply": "2022-05-03T17:27:32.477149Z",
     "shell.execute_reply.started": "2022-05-03T17:00:18.348677Z"
    },
    "papermill": {
     "duration": 2.769071,
     "end_time": "2022-05-03T17:27:32.477303",
     "exception": false,
     "start_time": "2022-05-03T17:27:29.708232",
     "status": "completed"
    },
    "tags": []
   },
   "outputs": [
    {
     "data": {
      "image/png": "[encoded data removed]",
      "text/plain": [
       "<Figure size 432x288 with 1 Axes>"
      ]
     },
     "metadata": {
      "needs_background": "light"
     },
     "output_type": "display_data"
    }
   ],
   "source": [
    "plot_metric(history_cel,'loss')"
   ]
  },
  {
   "cell_type": "code",
   "execution_count": 23,
   "id": "21b6ce90",
   "metadata": {
    "execution": {
     "iopub.execute_input": "2022-05-03T17:27:38.011989Z",
     "iopub.status.busy": "2022-05-03T17:27:38.010718Z",
     "iopub.status.idle": "2022-05-03T17:27:38.191594Z",
     "shell.execute_reply": "2022-05-03T17:27:38.192043Z",
     "shell.execute_reply.started": "2022-05-03T17:00:19.076396Z"
    },
    "papermill": {
     "duration": 2.753244,
     "end_time": "2022-05-03T17:27:38.192257",
     "exception": false,
     "start_time": "2022-05-03T17:27:35.439013",
     "status": "completed"
    },
    "tags": []
   },
   "outputs": [
    {
     "data": {
      "image/png": "[encoded data removed]",
      "text/plain": [
       "<Figure size 432x288 with 1 Axes>"
      ]
     },
     "metadata": {
      "needs_background": "light"
     },
     "output_type": "display_data"
    }
   ],
   "source": [
    "plot_metric(history_cel,'sparse_categorical_accuracy')"
   ]
  },
  {
   "cell_type": "markdown",
   "id": "e46655d0",
   "metadata": {
    "papermill": {
     "duration": 2.543678,
     "end_time": "2022-05-03T17:27:43.324227",
     "exception": false,
     "start_time": "2022-05-03T17:27:40.780549",
     "status": "completed"
    },
    "tags": []
   },
   "source": [
    "### Supervised Contrastive Loss Section"
   ]
  },
  {
   "cell_type": "markdown",
   "id": "6bfe36aa",
   "metadata": {
    "papermill": {
     "duration": 2.582145,
     "end_time": "2022-05-03T17:27:48.713036",
     "exception": false,
     "start_time": "2022-05-03T17:27:46.130891",
     "status": "completed"
    },
    "tags": []
   },
   "source": [
    "#### Create Keras compatible Supervised Contrastive Loss Function Below"
   ]
  },
  {
   "cell_type": "code",
   "execution_count": 24,
   "id": "bc878158",
   "metadata": {
    "execution": {
     "iopub.execute_input": "2022-05-03T17:27:53.848155Z",
     "iopub.status.busy": "2022-05-03T17:27:53.847328Z",
     "iopub.status.idle": "2022-05-03T17:27:53.849777Z",
     "shell.execute_reply": "2022-05-03T17:27:53.849372Z",
     "shell.execute_reply.started": "2022-05-03T16:58:27.366531Z"
    },
    "papermill": {
     "duration": 2.572926,
     "end_time": "2022-05-03T17:27:53.849889",
     "exception": false,
     "start_time": "2022-05-03T17:27:51.276963",
     "status": "completed"
    },
    "tags": []
   },
   "outputs": [],
   "source": [
    "class supervised_contrastive_loss(keras.losses.Loss):\n",
    "    def __init__(self, temperature=1, name=None):\n",
    "        super(supervised_contrastive_loss, self).__init__(name=name)\n",
    "        self.temperature = temperature\n",
    "\n",
    "    def __call__(self, labels, feature_vectors, sample_weight=None):\n",
    "        # Normalize feature vectors\n",
    "        feature_vectors_normalized = tf.math.l2_normalize(feature_vectors, axis=1)\n",
    "        # Compute logits\n",
    "        logits = tf.divide(\n",
    "            tf.matmul(\n",
    "                feature_vectors_normalized, tf.transpose(feature_vectors_normalized)\n",
    "            ),\n",
    "            self.temperature,\n",
    "        )\n",
    "        return tfa.losses.npairs_loss(tf.squeeze(labels), logits)"
   ]
  },
  {
   "cell_type": "markdown",
   "id": "eee3ded0",
   "metadata": {
    "papermill": {
     "duration": 2.56523,
     "end_time": "2022-05-03T17:27:59.257810",
     "exception": false,
     "start_time": "2022-05-03T17:27:56.692580",
     "status": "completed"
    },
    "tags": []
   },
   "source": [
    "### Add Projection Network"
   ]
  },
  {
   "cell_type": "code",
   "execution_count": 25,
   "id": "91370cc5",
   "metadata": {
    "execution": {
     "iopub.execute_input": "2022-05-03T17:28:04.904105Z",
     "iopub.status.busy": "2022-05-03T17:28:04.903294Z",
     "iopub.status.idle": "2022-05-03T17:28:04.905444Z",
     "shell.execute_reply": "2022-05-03T17:28:04.905819Z",
     "shell.execute_reply.started": "2022-05-03T16:58:27.377505Z"
    },
    "papermill": {
     "duration": 3.091506,
     "end_time": "2022-05-03T17:28:04.905957",
     "exception": false,
     "start_time": "2022-05-03T17:28:01.814451",
     "status": "completed"
    },
    "tags": []
   },
   "outputs": [],
   "source": [
    "def Map_Repr_Proj(encoder,optimizer_val):\n",
    "    model_map = Sequential(name = 'Projection_Model')\n",
    "    model_map.add(encoder)\n",
    "    model_map.add(Dense(128, activation=\"relu\"))\n",
    "    model_map.compile(optimizer=optimizer_val,loss=supervised_contrastive_loss(0.1),metrics=['accuracy'])\n",
    "    return model_map\n",
    "    "
   ]
  },
  {
   "cell_type": "markdown",
   "id": "0dc23427",
   "metadata": {
    "papermill": {
     "duration": 2.586617,
     "end_time": "2022-05-03T17:28:10.282712",
     "exception": false,
     "start_time": "2022-05-03T17:28:07.696095",
     "status": "completed"
    },
    "tags": []
   },
   "source": [
    "#### Train only the encoder Model with augmented images below"
   ]
  },
  {
   "cell_type": "code",
   "execution_count": 26,
   "id": "f790c05a",
   "metadata": {
    "execution": {
     "iopub.execute_input": "2022-05-03T17:28:15.442669Z",
     "iopub.status.busy": "2022-05-03T17:28:15.441782Z",
     "iopub.status.idle": "2022-05-03T17:28:15.443623Z",
     "shell.execute_reply": "2022-05-03T17:28:15.444044Z",
     "shell.execute_reply.started": "2022-05-03T16:58:27.393148Z"
    },
    "papermill": {
     "duration": 2.547687,
     "end_time": "2022-05-03T17:28:15.444195",
     "exception": false,
     "start_time": "2022-05-03T17:28:12.896508",
     "status": "completed"
    },
    "tags": []
   },
   "outputs": [],
   "source": [
    "def train_encoder(encoder_type=1,optimizer='adam'):\n",
    "    if encoder_type == 1:\n",
    "        encoder_model = create_encoder()\n",
    "    elif encoder_type == 2:\n",
    "        encoder_model = create_encoder_101()\n",
    "    for layer in encoder_model.layers:\n",
    "        layer.trainable = True\n",
    "    encoder_map=Map_Repr_Proj(encoder_model,optimizer)\n",
    "    encoder_map.summary()\n",
    "    history_map = encoder_map.fit(augmented_images,trainY,batch_size=batch_size, epochs=epochs, verbose=1)\n",
    "    return encoder_model"
   ]
  },
  {
   "cell_type": "code",
   "execution_count": 27,
   "id": "cebb663f",
   "metadata": {
    "execution": {
     "iopub.execute_input": "2022-05-03T17:28:20.839242Z",
     "iopub.status.busy": "2022-05-03T17:28:20.838416Z",
     "iopub.status.idle": "2022-05-03T17:39:32.530675Z",
     "shell.execute_reply": "2022-05-03T17:39:32.531345Z",
     "shell.execute_reply.started": "2022-05-03T17:00:27.942308Z"
    },
    "papermill": {
     "duration": 674.305902,
     "end_time": "2022-05-03T17:39:32.531556",
     "exception": false,
     "start_time": "2022-05-03T17:28:18.225654",
     "status": "completed"
    },
    "tags": []
   },
   "outputs": [
    {
     "name": "stdout",
     "output_type": "stream",
     "text": [
      "Model: \"Projection_Model\"\n",
      "_________________________________________________________________\n",
      "Layer (type)                 Output Shape              Param #   \n",
      "=================================================================\n",
      "ResNet_Model_50 (Sequential) (None, 2048)              23564800  \n",
      "_________________________________________________________________\n",
      "dense_2 (Dense)              (None, 128)               262272    \n",
      "=================================================================\n",
      "Total params: 23,827,072\n",
      "Trainable params: 23,781,632\n",
      "Non-trainable params: 45,440\n",
      "_________________________________________________________________\n",
      "Epoch 1/50\n",
      "196/196 [==============================] - 18s 71ms/step - loss: 5.2433 - accuracy: 0.0223\n",
      "Epoch 2/50\n",
      "196/196 [==============================] - 13s 67ms/step - loss: 5.0268 - accuracy: 0.0193\n",
      "Epoch 3/50\n",
      "196/196 [==============================] - 13s 67ms/step - loss: 4.8738 - accuracy: 0.0190\n",
      "Epoch 4/50\n",
      "196/196 [==============================] - 13s 67ms/step - loss: 4.7419 - accuracy: 0.0223\n",
      "Epoch 5/50\n",
      "196/196 [==============================] - 13s 69ms/step - loss: 4.6183 - accuracy: 0.0295\n",
      "Epoch 6/50\n",
      "196/196 [==============================] - 13s 69ms/step - loss: 4.4970 - accuracy: 0.0245\n",
      "Epoch 7/50\n",
      "196/196 [==============================] - 13s 68ms/step - loss: 4.3886 - accuracy: 0.0274\n",
      "Epoch 8/50\n",
      "196/196 [==============================] - 13s 68ms/step - loss: 4.2847 - accuracy: 0.0269\n",
      "Epoch 9/50\n",
      "196/196 [==============================] - 13s 68ms/step - loss: 4.1867 - accuracy: 0.0272\n",
      "Epoch 10/50\n",
      "196/196 [==============================] - 13s 68ms/step - loss: 4.0942 - accuracy: 0.0285\n",
      "Epoch 11/50\n",
      "196/196 [==============================] - 13s 69ms/step - loss: 4.0030 - accuracy: 0.0258\n",
      "Epoch 12/50\n",
      "196/196 [==============================] - 13s 68ms/step - loss: 3.9364 - accuracy: 0.0294\n",
      "Epoch 13/50\n",
      "196/196 [==============================] - 13s 69ms/step - loss: 3.8595 - accuracy: 0.0189\n",
      "Epoch 14/50\n",
      "196/196 [==============================] - 13s 67ms/step - loss: 3.7953 - accuracy: 0.0175\n",
      "Epoch 15/50\n",
      "196/196 [==============================] - 13s 68ms/step - loss: 3.7396 - accuracy: 0.0144\n",
      "Epoch 16/50\n",
      "196/196 [==============================] - 13s 68ms/step - loss: 3.7012 - accuracy: 0.0133\n",
      "Epoch 17/50\n",
      "196/196 [==============================] - 13s 67ms/step - loss: 3.6656 - accuracy: 0.0086\n",
      "Epoch 18/50\n",
      "196/196 [==============================] - 13s 68ms/step - loss: 3.6217 - accuracy: 0.0083\n",
      "Epoch 19/50\n",
      "196/196 [==============================] - 14s 69ms/step - loss: 3.6010 - accuracy: 0.0062\n",
      "Epoch 20/50\n",
      "196/196 [==============================] - 13s 67ms/step - loss: 3.5631 - accuracy: 0.0052\n",
      "Epoch 21/50\n",
      "196/196 [==============================] - 14s 70ms/step - loss: 3.5567 - accuracy: 0.0049\n",
      "Epoch 22/50\n",
      "196/196 [==============================] - 13s 67ms/step - loss: 3.5270 - accuracy: 0.0035\n",
      "Epoch 23/50\n",
      "196/196 [==============================] - 13s 67ms/step - loss: 3.5046 - accuracy: 0.0029\n",
      "Epoch 24/50\n",
      "196/196 [==============================] - 13s 68ms/step - loss: 3.4776 - accuracy: 0.0026\n",
      "Epoch 25/50\n",
      "196/196 [==============================] - 13s 67ms/step - loss: 3.4758 - accuracy: 0.0023\n",
      "Epoch 26/50\n",
      "196/196 [==============================] - 14s 70ms/step - loss: 3.4624 - accuracy: 0.0020\n",
      "Epoch 27/50\n",
      "196/196 [==============================] - 13s 67ms/step - loss: 3.4451 - accuracy: 0.0017\n",
      "Epoch 28/50\n",
      "196/196 [==============================] - 13s 67ms/step - loss: 3.4443 - accuracy: 0.0010\n",
      "Epoch 29/50\n",
      "196/196 [==============================] - 13s 68ms/step - loss: 3.4369 - accuracy: 7.8000e-04\n",
      "Epoch 30/50\n",
      "196/196 [==============================] - 13s 67ms/step - loss: 3.4230 - accuracy: 8.0000e-04\n",
      "Epoch 31/50\n",
      "196/196 [==============================] - 13s 69ms/step - loss: 3.4140 - accuracy: 8.6000e-04\n",
      "Epoch 32/50\n",
      "196/196 [==============================] - 13s 67ms/step - loss: 3.3974 - accuracy: 0.0011\n",
      "Epoch 33/50\n",
      "196/196 [==============================] - 13s 67ms/step - loss: 3.4067 - accuracy: 8.6000e-04\n",
      "Epoch 34/50\n",
      "196/196 [==============================] - 13s 67ms/step - loss: 3.4074 - accuracy: 0.0010\n",
      "Epoch 35/50\n",
      "196/196 [==============================] - 13s 67ms/step - loss: 3.4010 - accuracy: 9.4000e-04\n",
      "Epoch 36/50\n",
      "196/196 [==============================] - 13s 68ms/step - loss: 3.3959 - accuracy: 0.0010\n",
      "Epoch 37/50\n",
      "196/196 [==============================] - 13s 68ms/step - loss: 3.3818 - accuracy: 7.6000e-04\n",
      "Epoch 38/50\n",
      "196/196 [==============================] - 13s 67ms/step - loss: 3.3898 - accuracy: 7.8000e-04\n",
      "Epoch 39/50\n",
      "196/196 [==============================] - 13s 67ms/step - loss: 3.3828 - accuracy: 9.6000e-04\n",
      "Epoch 40/50\n",
      "196/196 [==============================] - 13s 67ms/step - loss: 3.3822 - accuracy: 6.2000e-04\n",
      "Epoch 41/50\n",
      "196/196 [==============================] - 13s 68ms/step - loss: 3.3725 - accuracy: 4.6000e-04\n",
      "Epoch 42/50\n",
      "196/196 [==============================] - 13s 68ms/step - loss: 3.3789 - accuracy: 5.8000e-04\n",
      "Epoch 43/50\n",
      "196/196 [==============================] - 13s 67ms/step - loss: 3.3660 - accuracy: 5.2000e-04\n",
      "Epoch 44/50\n",
      "196/196 [==============================] - 13s 67ms/step - loss: 3.3723 - accuracy: 6.6000e-04\n",
      "Epoch 45/50\n",
      "196/196 [==============================] - 13s 67ms/step - loss: 3.3735 - accuracy: 4.0000e-04\n",
      "Epoch 46/50\n",
      "196/196 [==============================] - 13s 67ms/step - loss: 3.3590 - accuracy: 3.8000e-04\n",
      "Epoch 47/50\n",
      "196/196 [==============================] - 14s 69ms/step - loss: 3.3732 - accuracy: 8.2000e-04\n",
      "Epoch 48/50\n",
      "196/196 [==============================] - 13s 67ms/step - loss: 3.3564 - accuracy: 3.6000e-04\n",
      "Epoch 49/50\n",
      "196/196 [==============================] - 13s 67ms/step - loss: 3.3486 - accuracy: 2.8000e-04\n",
      "Epoch 50/50\n",
      "196/196 [==============================] - 13s 67ms/step - loss: 3.3595 - accuracy: 3.2000e-04\n"
     ]
    }
   ],
   "source": [
    "encoder_model_50 = train_encoder()"
   ]
  },
  {
   "cell_type": "markdown",
   "id": "eaa8996e",
   "metadata": {
    "papermill": {
     "duration": 5.953833,
     "end_time": "2022-05-03T17:39:44.645560",
     "exception": false,
     "start_time": "2022-05-03T17:39:38.691727",
     "status": "completed"
    },
    "tags": []
   },
   "source": [
    "#### Train the classification model but freeze the encoder model below"
   ]
  },
  {
   "cell_type": "code",
   "execution_count": 28,
   "id": "888e5614",
   "metadata": {
    "execution": {
     "iopub.execute_input": "2022-05-03T17:39:56.300508Z",
     "iopub.status.busy": "2022-05-03T17:39:56.299647Z",
     "iopub.status.idle": "2022-05-03T17:39:56.302145Z",
     "shell.execute_reply": "2022-05-03T17:39:56.301699Z",
     "shell.execute_reply.started": "2022-05-03T17:01:26.696165Z"
    },
    "papermill": {
     "duration": 5.978952,
     "end_time": "2022-05-03T17:39:56.302269",
     "exception": false,
     "start_time": "2022-05-03T17:39:50.323317",
     "status": "completed"
    },
    "tags": []
   },
   "outputs": [],
   "source": [
    "def train_classifier(encoder_model,optimizer='adam'):\n",
    "    for layer in encoder_model.layers:\n",
    "        layer.trainable = False\n",
    "    model_scl = define_model(encoder_model, 'Supervised_Contrastive_Model',optimizer)\n",
    "    model_scl.summary()\n",
    "    history_scl = model_scl.fit(augmented_images, trainY, batch_size=batch_size, epochs=epochs, validation_split=val_split, verbose=1)\n",
    "    return model_scl, history_scl"
   ]
  },
  {
   "cell_type": "code",
   "execution_count": 29,
   "id": "0b948cf1",
   "metadata": {
    "execution": {
     "iopub.execute_input": "2022-05-03T17:40:07.856646Z",
     "iopub.status.busy": "2022-05-03T17:40:07.855793Z",
     "iopub.status.idle": "2022-05-03T17:44:33.366083Z",
     "shell.execute_reply": "2022-05-03T17:44:33.365528Z",
     "shell.execute_reply.started": "2022-05-03T17:01:26.702360Z"
    },
    "papermill": {
     "duration": 271.163272,
     "end_time": "2022-05-03T17:44:33.366246",
     "exception": false,
     "start_time": "2022-05-03T17:40:02.202974",
     "status": "completed"
    },
    "tags": []
   },
   "outputs": [
    {
     "name": "stdout",
     "output_type": "stream",
     "text": [
      "Model: \"Supervised_Contrastive_Model\"\n",
      "_________________________________________________________________\n",
      "Layer (type)                 Output Shape              Param #   \n",
      "=================================================================\n",
      "ResNet_Model_50 (Sequential) (None, 2048)              23564800  \n",
      "_________________________________________________________________\n",
      "dropout_2 (Dropout)          (None, 2048)              0         \n",
      "_________________________________________________________________\n",
      "dense_3 (Dense)              (None, 512)               1049088   \n",
      "_________________________________________________________________\n",
      "dropout_3 (Dropout)          (None, 512)               0         \n",
      "_________________________________________________________________\n",
      "dense_4 (Dense)              (None, 10)                5130      \n",
      "=================================================================\n",
      "Total params: 24,619,018\n",
      "Trainable params: 1,054,218\n",
      "Non-trainable params: 23,564,800\n",
      "_________________________________________________________________\n",
      "Epoch 1/50\n",
      "157/157 [==============================] - 8s 34ms/step - loss: 0.2323 - sparse_categorical_accuracy: 0.9434 - val_loss: 0.1585 - val_sparse_categorical_accuracy: 0.9549\n",
      "Epoch 2/50\n",
      "157/157 [==============================] - 4s 28ms/step - loss: 0.1740 - sparse_categorical_accuracy: 0.9539 - val_loss: 0.1455 - val_sparse_categorical_accuracy: 0.9573\n",
      "Epoch 3/50\n",
      "157/157 [==============================] - 4s 29ms/step - loss: 0.1668 - sparse_categorical_accuracy: 0.9539 - val_loss: 0.1474 - val_sparse_categorical_accuracy: 0.9564\n",
      "Epoch 4/50\n",
      "157/157 [==============================] - 4s 28ms/step - loss: 0.1619 - sparse_categorical_accuracy: 0.9543 - val_loss: 0.1437 - val_sparse_categorical_accuracy: 0.9569\n",
      "Epoch 5/50\n",
      "157/157 [==============================] - 4s 28ms/step - loss: 0.1571 - sparse_categorical_accuracy: 0.9558 - val_loss: 0.1437 - val_sparse_categorical_accuracy: 0.9596\n",
      "Epoch 6/50\n",
      "157/157 [==============================] - 5s 32ms/step - loss: 0.1563 - sparse_categorical_accuracy: 0.9563 - val_loss: 0.1443 - val_sparse_categorical_accuracy: 0.9563\n",
      "Epoch 7/50\n",
      "157/157 [==============================] - 5s 29ms/step - loss: 0.1557 - sparse_categorical_accuracy: 0.9561 - val_loss: 0.1378 - val_sparse_categorical_accuracy: 0.9573\n",
      "Epoch 8/50\n",
      "157/157 [==============================] - 4s 29ms/step - loss: 0.1551 - sparse_categorical_accuracy: 0.9556 - val_loss: 0.1405 - val_sparse_categorical_accuracy: 0.9585\n",
      "Epoch 9/50\n",
      "157/157 [==============================] - 4s 28ms/step - loss: 0.1568 - sparse_categorical_accuracy: 0.9557 - val_loss: 0.1399 - val_sparse_categorical_accuracy: 0.9573\n",
      "Epoch 10/50\n",
      "157/157 [==============================] - 4s 29ms/step - loss: 0.1542 - sparse_categorical_accuracy: 0.9559 - val_loss: 0.1370 - val_sparse_categorical_accuracy: 0.9580\n",
      "Epoch 11/50\n",
      "157/157 [==============================] - 4s 28ms/step - loss: 0.1507 - sparse_categorical_accuracy: 0.9556 - val_loss: 0.1405 - val_sparse_categorical_accuracy: 0.9563\n",
      "Epoch 12/50\n",
      "157/157 [==============================] - 5s 31ms/step - loss: 0.1530 - sparse_categorical_accuracy: 0.9560 - val_loss: 0.1391 - val_sparse_categorical_accuracy: 0.9570\n",
      "Epoch 13/50\n",
      "157/157 [==============================] - 5s 31ms/step - loss: 0.1502 - sparse_categorical_accuracy: 0.9558 - val_loss: 0.1455 - val_sparse_categorical_accuracy: 0.9545\n",
      "Epoch 14/50\n",
      "157/157 [==============================] - 5s 32ms/step - loss: 0.1514 - sparse_categorical_accuracy: 0.9564 - val_loss: 0.1424 - val_sparse_categorical_accuracy: 0.9564\n",
      "Epoch 15/50\n",
      "157/157 [==============================] - 5s 30ms/step - loss: 0.1496 - sparse_categorical_accuracy: 0.9566 - val_loss: 0.1426 - val_sparse_categorical_accuracy: 0.9582\n",
      "Epoch 16/50\n",
      "157/157 [==============================] - 4s 28ms/step - loss: 0.1497 - sparse_categorical_accuracy: 0.9563 - val_loss: 0.1375 - val_sparse_categorical_accuracy: 0.9582\n",
      "Epoch 17/50\n",
      "157/157 [==============================] - 5s 29ms/step - loss: 0.1495 - sparse_categorical_accuracy: 0.9567 - val_loss: 0.1343 - val_sparse_categorical_accuracy: 0.9577\n",
      "Epoch 18/50\n",
      "157/157 [==============================] - 5s 29ms/step - loss: 0.1507 - sparse_categorical_accuracy: 0.9562 - val_loss: 0.1375 - val_sparse_categorical_accuracy: 0.9569\n",
      "Epoch 19/50\n",
      "157/157 [==============================] - 4s 29ms/step - loss: 0.1501 - sparse_categorical_accuracy: 0.9558 - val_loss: 0.1380 - val_sparse_categorical_accuracy: 0.9578\n",
      "Epoch 20/50\n",
      "157/157 [==============================] - 5s 29ms/step - loss: 0.1504 - sparse_categorical_accuracy: 0.9563 - val_loss: 0.1375 - val_sparse_categorical_accuracy: 0.9575\n",
      "Epoch 21/50\n",
      "157/157 [==============================] - 5s 30ms/step - loss: 0.1470 - sparse_categorical_accuracy: 0.9572 - val_loss: 0.1405 - val_sparse_categorical_accuracy: 0.9572\n",
      "Epoch 22/50\n",
      "157/157 [==============================] - 5s 29ms/step - loss: 0.1496 - sparse_categorical_accuracy: 0.9558 - val_loss: 0.1381 - val_sparse_categorical_accuracy: 0.9586\n",
      "Epoch 23/50\n",
      "157/157 [==============================] - 4s 28ms/step - loss: 0.1488 - sparse_categorical_accuracy: 0.9558 - val_loss: 0.1368 - val_sparse_categorical_accuracy: 0.9569\n",
      "Epoch 24/50\n",
      "157/157 [==============================] - 5s 29ms/step - loss: 0.1470 - sparse_categorical_accuracy: 0.9559 - val_loss: 0.1411 - val_sparse_categorical_accuracy: 0.9577\n",
      "Epoch 25/50\n",
      "157/157 [==============================] - 5s 29ms/step - loss: 0.1467 - sparse_categorical_accuracy: 0.9568 - val_loss: 0.1373 - val_sparse_categorical_accuracy: 0.9576\n",
      "Epoch 26/50\n",
      "157/157 [==============================] - 4s 28ms/step - loss: 0.1473 - sparse_categorical_accuracy: 0.9567 - val_loss: 0.1391 - val_sparse_categorical_accuracy: 0.9571\n",
      "Epoch 27/50\n",
      "157/157 [==============================] - 4s 28ms/step - loss: 0.1482 - sparse_categorical_accuracy: 0.9563 - val_loss: 0.1369 - val_sparse_categorical_accuracy: 0.9577\n",
      "Epoch 28/50\n",
      "157/157 [==============================] - 4s 28ms/step - loss: 0.1492 - sparse_categorical_accuracy: 0.9561 - val_loss: 0.1389 - val_sparse_categorical_accuracy: 0.9569\n",
      "Epoch 29/50\n",
      "157/157 [==============================] - 5s 31ms/step - loss: 0.1473 - sparse_categorical_accuracy: 0.9560 - val_loss: 0.1387 - val_sparse_categorical_accuracy: 0.9571\n",
      "Epoch 30/50\n",
      "157/157 [==============================] - 5s 30ms/step - loss: 0.1483 - sparse_categorical_accuracy: 0.9564 - val_loss: 0.1338 - val_sparse_categorical_accuracy: 0.9586\n",
      "Epoch 31/50\n",
      "157/157 [==============================] - 5s 29ms/step - loss: 0.1450 - sparse_categorical_accuracy: 0.9571 - val_loss: 0.1378 - val_sparse_categorical_accuracy: 0.9583\n",
      "Epoch 32/50\n",
      "157/157 [==============================] - 4s 29ms/step - loss: 0.1460 - sparse_categorical_accuracy: 0.9570 - val_loss: 0.1390 - val_sparse_categorical_accuracy: 0.9573\n",
      "Epoch 33/50\n",
      "157/157 [==============================] - 4s 28ms/step - loss: 0.1472 - sparse_categorical_accuracy: 0.9572 - val_loss: 0.1371 - val_sparse_categorical_accuracy: 0.9573\n",
      "Epoch 34/50\n",
      "157/157 [==============================] - 4s 28ms/step - loss: 0.1448 - sparse_categorical_accuracy: 0.9566 - val_loss: 0.1383 - val_sparse_categorical_accuracy: 0.9577\n",
      "Epoch 35/50\n",
      "157/157 [==============================] - 4s 28ms/step - loss: 0.1449 - sparse_categorical_accuracy: 0.9568 - val_loss: 0.1376 - val_sparse_categorical_accuracy: 0.9578\n",
      "Epoch 36/50\n",
      "157/157 [==============================] - 5s 29ms/step - loss: 0.1442 - sparse_categorical_accuracy: 0.9569 - val_loss: 0.1385 - val_sparse_categorical_accuracy: 0.9580\n",
      "Epoch 37/50\n",
      "157/157 [==============================] - 4s 28ms/step - loss: 0.1434 - sparse_categorical_accuracy: 0.9574 - val_loss: 0.1380 - val_sparse_categorical_accuracy: 0.9591\n",
      "Epoch 38/50\n",
      "157/157 [==============================] - 4s 28ms/step - loss: 0.1433 - sparse_categorical_accuracy: 0.9567 - val_loss: 0.1399 - val_sparse_categorical_accuracy: 0.9573\n",
      "Epoch 39/50\n",
      "157/157 [==============================] - 4s 29ms/step - loss: 0.1441 - sparse_categorical_accuracy: 0.9571 - val_loss: 0.1368 - val_sparse_categorical_accuracy: 0.9586\n",
      "Epoch 40/50\n",
      "157/157 [==============================] - 4s 28ms/step - loss: 0.1436 - sparse_categorical_accuracy: 0.9571 - val_loss: 0.1369 - val_sparse_categorical_accuracy: 0.9583\n",
      "Epoch 41/50\n",
      "157/157 [==============================] - 4s 28ms/step - loss: 0.1432 - sparse_categorical_accuracy: 0.9570 - val_loss: 0.1354 - val_sparse_categorical_accuracy: 0.9591\n",
      "Epoch 42/50\n",
      "157/157 [==============================] - 4s 29ms/step - loss: 0.1447 - sparse_categorical_accuracy: 0.9575 - val_loss: 0.1378 - val_sparse_categorical_accuracy: 0.9585\n",
      "Epoch 43/50\n",
      "157/157 [==============================] - 5s 29ms/step - loss: 0.1452 - sparse_categorical_accuracy: 0.9562 - val_loss: 0.1355 - val_sparse_categorical_accuracy: 0.9590\n",
      "Epoch 44/50\n",
      "157/157 [==============================] - 5s 29ms/step - loss: 0.1436 - sparse_categorical_accuracy: 0.9569 - val_loss: 0.1369 - val_sparse_categorical_accuracy: 0.9587\n",
      "Epoch 45/50\n",
      "157/157 [==============================] - 5s 33ms/step - loss: 0.1442 - sparse_categorical_accuracy: 0.9572 - val_loss: 0.1408 - val_sparse_categorical_accuracy: 0.9572\n",
      "Epoch 46/50\n",
      "157/157 [==============================] - 5s 31ms/step - loss: 0.1451 - sparse_categorical_accuracy: 0.9563 - val_loss: 0.1394 - val_sparse_categorical_accuracy: 0.9578\n",
      "Epoch 47/50\n",
      "157/157 [==============================] - 4s 28ms/step - loss: 0.1446 - sparse_categorical_accuracy: 0.9579 - val_loss: 0.1363 - val_sparse_categorical_accuracy: 0.9591\n",
      "Epoch 48/50\n",
      "157/157 [==============================] - 4s 28ms/step - loss: 0.1435 - sparse_categorical_accuracy: 0.9571 - val_loss: 0.1377 - val_sparse_categorical_accuracy: 0.9574\n",
      "Epoch 49/50\n",
      "157/157 [==============================] - 4s 28ms/step - loss: 0.1409 - sparse_categorical_accuracy: 0.9577 - val_loss: 0.1391 - val_sparse_categorical_accuracy: 0.9585\n",
      "Epoch 50/50\n",
      "157/157 [==============================] - 5s 29ms/step - loss: 0.1415 - sparse_categorical_accuracy: 0.9583 - val_loss: 0.1380 - val_sparse_categorical_accuracy: 0.9577\n"
     ]
    }
   ],
   "source": [
    "model_scl, history_scl = train_classifier(encoder_model_50)"
   ]
  },
  {
   "cell_type": "code",
   "execution_count": 30,
   "id": "97b9fbf9",
   "metadata": {
    "execution": {
     "iopub.execute_input": "2022-05-03T17:44:46.816829Z",
     "iopub.status.busy": "2022-05-03T17:44:46.816024Z",
     "iopub.status.idle": "2022-05-03T17:44:51.453905Z",
     "shell.execute_reply": "2022-05-03T17:44:51.453493Z",
     "shell.execute_reply.started": "2022-05-03T17:01:50.369426Z"
    },
    "papermill": {
     "duration": 11.239665,
     "end_time": "2022-05-03T17:44:51.454043",
     "exception": false,
     "start_time": "2022-05-03T17:44:40.214378",
     "status": "completed"
    },
    "tags": []
   },
   "outputs": [
    {
     "name": "stdout",
     "output_type": "stream",
     "text": [
      "313/313 [==============================] - 5s 15ms/step - loss: 1.5140 - sparse_categorical_accuracy: 0.7062\n"
     ]
    },
    {
     "data": {
      "text/plain": [
       "[1.514035701751709, 0.7062000036239624]"
      ]
     },
     "execution_count": 30,
     "metadata": {},
     "output_type": "execute_result"
    }
   ],
   "source": [
    "model_scl.evaluate(aug_test,testY)"
   ]
  },
  {
   "cell_type": "code",
   "execution_count": 31,
   "id": "3c1f9bae",
   "metadata": {
    "execution": {
     "iopub.execute_input": "2022-05-03T17:45:05.481701Z",
     "iopub.status.busy": "2022-05-03T17:45:05.480839Z",
     "iopub.status.idle": "2022-05-03T17:45:05.650723Z",
     "shell.execute_reply": "2022-05-03T17:45:05.650296Z",
     "shell.execute_reply.started": "2022-05-03T17:01:54.609309Z"
    },
    "papermill": {
     "duration": 7.551648,
     "end_time": "2022-05-03T17:45:05.650847",
     "exception": false,
     "start_time": "2022-05-03T17:44:58.099199",
     "status": "completed"
    },
    "tags": []
   },
   "outputs": [
    {
     "data": {
      "image/png": "[encoded data removed]",
      "text/plain": [
       "<Figure size 432x288 with 1 Axes>"
      ]
     },
     "metadata": {
      "needs_background": "light"
     },
     "output_type": "display_data"
    }
   ],
   "source": [
    "plot_metric(history_scl,'loss')"
   ]
  },
  {
   "cell_type": "code",
   "execution_count": 32,
   "id": "351399db",
   "metadata": {
    "execution": {
     "iopub.execute_input": "2022-05-03T17:45:19.101719Z",
     "iopub.status.busy": "2022-05-03T17:45:19.101179Z",
     "iopub.status.idle": "2022-05-03T17:45:19.292973Z",
     "shell.execute_reply": "2022-05-03T17:45:19.293436Z",
     "shell.execute_reply.started": "2022-05-03T17:01:54.803228Z"
    },
    "papermill": {
     "duration": 6.77967,
     "end_time": "2022-05-03T17:45:19.293581",
     "exception": false,
     "start_time": "2022-05-03T17:45:12.513911",
     "status": "completed"
    },
    "tags": []
   },
   "outputs": [
    {
     "data": {
      "image/png": "[encoded data removed]",
      "text/plain": [
       "<Figure size 432x288 with 1 Axes>"
      ]
     },
     "metadata": {
      "needs_background": "light"
     },
     "output_type": "display_data"
    }
   ],
   "source": [
    "plot_metric(history_scl,'sparse_categorical_accuracy')"
   ]
  },
  {
   "cell_type": "markdown",
   "id": "231ff1bb",
   "metadata": {
    "papermill": {
     "duration": 6.829921,
     "end_time": "2022-05-03T17:45:32.971306",
     "exception": false,
     "start_time": "2022-05-03T17:45:26.141385",
     "status": "completed"
    },
    "tags": []
   },
   "source": [
    "### Using on ResNet101V2 as Encoder"
   ]
  },
  {
   "cell_type": "code",
   "execution_count": 33,
   "id": "baa285a8",
   "metadata": {
    "execution": {
     "iopub.execute_input": "2022-05-03T17:45:46.905318Z",
     "iopub.status.busy": "2022-05-03T17:45:46.904473Z",
     "iopub.status.idle": "2022-05-03T18:05:39.183789Z",
     "shell.execute_reply": "2022-05-03T18:05:39.183267Z",
     "shell.execute_reply.started": "2022-05-03T17:01:55.027534Z"
    },
    "papermill": {
     "duration": 1199.14798,
     "end_time": "2022-05-03T18:05:39.183918",
     "exception": false,
     "start_time": "2022-05-03T17:45:40.035938",
     "status": "completed"
    },
    "tags": []
   },
   "outputs": [
    {
     "name": "stdout",
     "output_type": "stream",
     "text": [
      "Model: \"Projection_Model\"\n",
      "_________________________________________________________________\n",
      "Layer (type)                 Output Shape              Param #   \n",
      "=================================================================\n",
      "ResNet_Model_101 (Sequential (None, 2048)              42626560  \n",
      "_________________________________________________________________\n",
      "dense_5 (Dense)              (None, 128)               262272    \n",
      "=================================================================\n",
      "Total params: 42,888,832\n",
      "Trainable params: 42,791,168\n",
      "Non-trainable params: 97,664\n",
      "_________________________________________________________________\n",
      "Epoch 1/50\n",
      "196/196 [==============================] - 32s 119ms/step - loss: 5.2587 - accuracy: 1.2000e-04\n",
      "Epoch 2/50\n",
      "196/196 [==============================] - 23s 119ms/step - loss: 5.0567 - accuracy: 5.4000e-04\n",
      "Epoch 3/50\n",
      "196/196 [==============================] - 24s 121ms/step - loss: 4.9245 - accuracy: 5.0000e-04\n",
      "Epoch 4/50\n",
      "196/196 [==============================] - 23s 119ms/step - loss: 4.8069 - accuracy: 4.0000e-05\n",
      "Epoch 5/50\n",
      "196/196 [==============================] - 23s 118ms/step - loss: 4.6883 - accuracy: 2.0000e-05\n",
      "Epoch 6/50\n",
      "196/196 [==============================] - 24s 122ms/step - loss: 4.5707 - accuracy: 6.0000e-05\n",
      "Epoch 7/50\n",
      "196/196 [==============================] - 23s 119ms/step - loss: 4.4705 - accuracy: 2.8000e-04\n",
      "Epoch 8/50\n",
      "196/196 [==============================] - 23s 119ms/step - loss: 4.3652 - accuracy: 5.6000e-04\n",
      "Epoch 9/50\n",
      "196/196 [==============================] - 24s 122ms/step - loss: 4.2630 - accuracy: 0.0028\n",
      "Epoch 10/50\n",
      "196/196 [==============================] - 23s 119ms/step - loss: 4.1702 - accuracy: 0.0024\n",
      "Epoch 11/50\n",
      "196/196 [==============================] - 24s 121ms/step - loss: 4.0838 - accuracy: 0.0073\n",
      "Epoch 12/50\n",
      "196/196 [==============================] - 24s 124ms/step - loss: 4.0118 - accuracy: 0.0074\n",
      "Epoch 13/50\n",
      "196/196 [==============================] - 23s 119ms/step - loss: 3.9334 - accuracy: 0.0057\n",
      "Epoch 14/50\n",
      "196/196 [==============================] - 23s 119ms/step - loss: 3.8583 - accuracy: 0.0059\n",
      "Epoch 15/50\n",
      "196/196 [==============================] - 24s 123ms/step - loss: 3.8137 - accuracy: 0.0109\n",
      "Epoch 16/50\n",
      "196/196 [==============================] - 23s 119ms/step - loss: 3.7584 - accuracy: 0.0132\n",
      "Epoch 17/50\n",
      "196/196 [==============================] - 23s 119ms/step - loss: 3.7175 - accuracy: 0.0111\n",
      "Epoch 18/50\n",
      "196/196 [==============================] - 24s 122ms/step - loss: 3.6759 - accuracy: 0.0219\n",
      "Epoch 19/50\n",
      "196/196 [==============================] - 23s 119ms/step - loss: 3.6404 - accuracy: 0.0155\n",
      "Epoch 20/50\n",
      "196/196 [==============================] - 23s 119ms/step - loss: 3.6223 - accuracy: 0.0177\n",
      "Epoch 21/50\n",
      "196/196 [==============================] - 24s 121ms/step - loss: 3.5830 - accuracy: 0.0257\n",
      "Epoch 22/50\n",
      "196/196 [==============================] - 23s 120ms/step - loss: 3.5608 - accuracy: 0.0416\n",
      "Epoch 23/50\n",
      "196/196 [==============================] - 23s 119ms/step - loss: 3.5613 - accuracy: 0.0549\n",
      "Epoch 24/50\n",
      "196/196 [==============================] - 24s 121ms/step - loss: 3.5168 - accuracy: 0.0388\n",
      "Epoch 25/50\n",
      "196/196 [==============================] - 24s 123ms/step - loss: 3.5016 - accuracy: 0.0329\n",
      "Epoch 26/50\n",
      "196/196 [==============================] - 23s 119ms/step - loss: 3.4784 - accuracy: 0.0662\n",
      "Epoch 27/50\n",
      "196/196 [==============================] - 24s 123ms/step - loss: 3.4766 - accuracy: 0.0714\n",
      "Epoch 28/50\n",
      "196/196 [==============================] - 24s 121ms/step - loss: 3.4604 - accuracy: 0.0400\n",
      "Epoch 29/50\n",
      "196/196 [==============================] - 23s 119ms/step - loss: 3.4347 - accuracy: 0.0728\n",
      "Epoch 30/50\n",
      "196/196 [==============================] - 24s 120ms/step - loss: 3.4395 - accuracy: 0.0716\n",
      "Epoch 31/50\n",
      "196/196 [==============================] - 24s 122ms/step - loss: 3.4369 - accuracy: 0.0540\n",
      "Epoch 32/50\n",
      "196/196 [==============================] - 23s 119ms/step - loss: 3.4293 - accuracy: 0.0813\n",
      "Epoch 33/50\n",
      "196/196 [==============================] - 23s 120ms/step - loss: 3.4287 - accuracy: 0.0867\n",
      "Epoch 34/50\n",
      "196/196 [==============================] - 24s 123ms/step - loss: 3.4081 - accuracy: 0.0730\n",
      "Epoch 35/50\n",
      "196/196 [==============================] - 23s 119ms/step - loss: 3.4139 - accuracy: 0.0768\n",
      "Epoch 36/50\n",
      "196/196 [==============================] - 23s 120ms/step - loss: 3.4038 - accuracy: 0.0855\n",
      "Epoch 37/50\n",
      "196/196 [==============================] - 24s 125ms/step - loss: 3.3883 - accuracy: 0.0842\n",
      "Epoch 38/50\n",
      "196/196 [==============================] - 24s 120ms/step - loss: 3.3975 - accuracy: 0.0785\n",
      "Epoch 39/50\n",
      "196/196 [==============================] - 23s 119ms/step - loss: 3.3929 - accuracy: 0.0834\n",
      "Epoch 40/50\n",
      "196/196 [==============================] - 23s 119ms/step - loss: 3.3951 - accuracy: 0.0833\n",
      "Epoch 41/50\n",
      "196/196 [==============================] - 23s 120ms/step - loss: 3.3846 - accuracy: 0.0865\n",
      "Epoch 42/50\n",
      "196/196 [==============================] - 23s 120ms/step - loss: 3.3880 - accuracy: 0.0832\n",
      "Epoch 43/50\n",
      "196/196 [==============================] - 24s 123ms/step - loss: 3.3817 - accuracy: 0.0933\n",
      "Epoch 44/50\n",
      "196/196 [==============================] - 23s 120ms/step - loss: 3.3786 - accuracy: 0.0872\n",
      "Epoch 45/50\n",
      "196/196 [==============================] - 23s 120ms/step - loss: 3.3717 - accuracy: 0.0825\n",
      "Epoch 46/50\n",
      "196/196 [==============================] - 23s 119ms/step - loss: 3.3660 - accuracy: 0.0918\n",
      "Epoch 47/50\n",
      "196/196 [==============================] - 23s 120ms/step - loss: 3.3701 - accuracy: 0.0890\n",
      "Epoch 48/50\n",
      "196/196 [==============================] - 24s 122ms/step - loss: 3.3687 - accuracy: 0.0904\n",
      "Epoch 49/50\n",
      "196/196 [==============================] - 24s 121ms/step - loss: 3.3760 - accuracy: 0.0927\n",
      "Epoch 50/50\n",
      "196/196 [==============================] - 23s 119ms/step - loss: 3.3696 - accuracy: 0.0911\n"
     ]
    }
   ],
   "source": [
    "encoder_model_101 = train_encoder(encoder_type=2)"
   ]
  },
  {
   "cell_type": "code",
   "execution_count": 34,
   "id": "7d4be253",
   "metadata": {
    "execution": {
     "iopub.execute_input": "2022-05-03T18:05:59.638658Z",
     "iopub.status.busy": "2022-05-03T18:05:59.637810Z",
     "iopub.status.idle": "2022-05-03T18:12:56.233067Z",
     "shell.execute_reply": "2022-05-03T18:12:56.233756Z",
     "shell.execute_reply.started": "2022-05-03T17:03:41.200488Z"
    },
    "papermill": {
     "duration": 426.492459,
     "end_time": "2022-05-03T18:12:56.233910",
     "exception": false,
     "start_time": "2022-05-03T18:05:49.741451",
     "status": "completed"
    },
    "tags": []
   },
   "outputs": [
    {
     "name": "stdout",
     "output_type": "stream",
     "text": [
      "Model: \"Supervised_Contrastive_Model\"\n",
      "_________________________________________________________________\n",
      "Layer (type)                 Output Shape              Param #   \n",
      "=================================================================\n",
      "ResNet_Model_101 (Sequential (None, 2048)              42626560  \n",
      "_________________________________________________________________\n",
      "dropout_4 (Dropout)          (None, 2048)              0         \n",
      "_________________________________________________________________\n",
      "dense_6 (Dense)              (None, 512)               1049088   \n",
      "_________________________________________________________________\n",
      "dropout_5 (Dropout)          (None, 512)               0         \n",
      "_________________________________________________________________\n",
      "dense_7 (Dense)              (None, 10)                5130      \n",
      "=================================================================\n",
      "Total params: 43,680,778\n",
      "Trainable params: 1,054,218\n",
      "Non-trainable params: 42,626,560\n",
      "_________________________________________________________________\n",
      "Epoch 1/50\n",
      "157/157 [==============================] - 14s 59ms/step - loss: 0.3421 - sparse_categorical_accuracy: 0.9076 - val_loss: 0.2626 - val_sparse_categorical_accuracy: 0.9215\n",
      "Epoch 2/50\n",
      "157/157 [==============================] - 8s 50ms/step - loss: 0.2774 - sparse_categorical_accuracy: 0.9208 - val_loss: 0.2446 - val_sparse_categorical_accuracy: 0.9243\n",
      "Epoch 3/50\n",
      "157/157 [==============================] - 8s 50ms/step - loss: 0.2685 - sparse_categorical_accuracy: 0.9227 - val_loss: 0.2464 - val_sparse_categorical_accuracy: 0.9231\n",
      "Epoch 4/50\n",
      "157/157 [==============================] - 8s 50ms/step - loss: 0.2614 - sparse_categorical_accuracy: 0.9241 - val_loss: 0.2401 - val_sparse_categorical_accuracy: 0.9229\n",
      "Epoch 5/50\n",
      "157/157 [==============================] - 8s 49ms/step - loss: 0.2586 - sparse_categorical_accuracy: 0.9238 - val_loss: 0.2342 - val_sparse_categorical_accuracy: 0.9245\n",
      "Epoch 6/50\n",
      "157/157 [==============================] - 9s 56ms/step - loss: 0.2514 - sparse_categorical_accuracy: 0.9264 - val_loss: 0.2353 - val_sparse_categorical_accuracy: 0.9245\n",
      "Epoch 7/50\n",
      "157/157 [==============================] - 8s 49ms/step - loss: 0.2480 - sparse_categorical_accuracy: 0.9254 - val_loss: 0.2342 - val_sparse_categorical_accuracy: 0.9259\n",
      "Epoch 8/50\n",
      "157/157 [==============================] - 9s 56ms/step - loss: 0.2489 - sparse_categorical_accuracy: 0.9253 - val_loss: 0.2316 - val_sparse_categorical_accuracy: 0.9256\n",
      "Epoch 9/50\n",
      "157/157 [==============================] - 8s 49ms/step - loss: 0.2453 - sparse_categorical_accuracy: 0.9258 - val_loss: 0.2348 - val_sparse_categorical_accuracy: 0.9250\n",
      "Epoch 10/50\n",
      "157/157 [==============================] - 8s 51ms/step - loss: 0.2445 - sparse_categorical_accuracy: 0.9273 - val_loss: 0.2315 - val_sparse_categorical_accuracy: 0.9245\n",
      "Epoch 11/50\n",
      "157/157 [==============================] - 8s 50ms/step - loss: 0.2459 - sparse_categorical_accuracy: 0.9266 - val_loss: 0.2349 - val_sparse_categorical_accuracy: 0.9260\n",
      "Epoch 12/50\n",
      "157/157 [==============================] - 8s 49ms/step - loss: 0.2446 - sparse_categorical_accuracy: 0.9270 - val_loss: 0.2301 - val_sparse_categorical_accuracy: 0.9257\n",
      "Epoch 13/50\n",
      "157/157 [==============================] - 8s 49ms/step - loss: 0.2439 - sparse_categorical_accuracy: 0.9268 - val_loss: 0.2316 - val_sparse_categorical_accuracy: 0.9238\n",
      "Epoch 14/50\n",
      "157/157 [==============================] - 9s 56ms/step - loss: 0.2418 - sparse_categorical_accuracy: 0.9258 - val_loss: 0.2310 - val_sparse_categorical_accuracy: 0.9242\n",
      "Epoch 15/50\n",
      "157/157 [==============================] - 9s 55ms/step - loss: 0.2421 - sparse_categorical_accuracy: 0.9269 - val_loss: 0.2260 - val_sparse_categorical_accuracy: 0.9256\n",
      "Epoch 16/50\n",
      "157/157 [==============================] - 9s 55ms/step - loss: 0.2417 - sparse_categorical_accuracy: 0.9267 - val_loss: 0.2304 - val_sparse_categorical_accuracy: 0.9257\n",
      "Epoch 17/50\n",
      "157/157 [==============================] - 8s 50ms/step - loss: 0.2399 - sparse_categorical_accuracy: 0.9270 - val_loss: 0.2318 - val_sparse_categorical_accuracy: 0.9247\n",
      "Epoch 18/50\n",
      "157/157 [==============================] - 9s 57ms/step - loss: 0.2403 - sparse_categorical_accuracy: 0.9273 - val_loss: 0.2266 - val_sparse_categorical_accuracy: 0.9268\n",
      "Epoch 19/50\n",
      "157/157 [==============================] - 9s 56ms/step - loss: 0.2405 - sparse_categorical_accuracy: 0.9271 - val_loss: 0.2283 - val_sparse_categorical_accuracy: 0.9256\n",
      "Epoch 20/50\n",
      "157/157 [==============================] - 8s 49ms/step - loss: 0.2382 - sparse_categorical_accuracy: 0.9281 - val_loss: 0.2258 - val_sparse_categorical_accuracy: 0.9257\n",
      "Epoch 21/50\n",
      "157/157 [==============================] - 8s 49ms/step - loss: 0.2414 - sparse_categorical_accuracy: 0.9266 - val_loss: 0.2254 - val_sparse_categorical_accuracy: 0.9256\n",
      "Epoch 22/50\n",
      "157/157 [==============================] - 8s 51ms/step - loss: 0.2393 - sparse_categorical_accuracy: 0.9273 - val_loss: 0.2289 - val_sparse_categorical_accuracy: 0.9267\n",
      "Epoch 23/50\n",
      "157/157 [==============================] - 9s 57ms/step - loss: 0.2377 - sparse_categorical_accuracy: 0.9272 - val_loss: 0.2302 - val_sparse_categorical_accuracy: 0.9243\n",
      "Epoch 24/50\n",
      "157/157 [==============================] - 8s 49ms/step - loss: 0.2394 - sparse_categorical_accuracy: 0.9268 - val_loss: 0.2292 - val_sparse_categorical_accuracy: 0.9263\n",
      "Epoch 25/50\n",
      "157/157 [==============================] - 9s 56ms/step - loss: 0.2370 - sparse_categorical_accuracy: 0.9269 - val_loss: 0.2313 - val_sparse_categorical_accuracy: 0.9249\n",
      "Epoch 26/50\n",
      "157/157 [==============================] - 8s 50ms/step - loss: 0.2362 - sparse_categorical_accuracy: 0.9272 - val_loss: 0.2246 - val_sparse_categorical_accuracy: 0.9266\n",
      "Epoch 27/50\n",
      "157/157 [==============================] - 8s 50ms/step - loss: 0.2354 - sparse_categorical_accuracy: 0.9279 - val_loss: 0.2264 - val_sparse_categorical_accuracy: 0.9246\n",
      "Epoch 28/50\n",
      "157/157 [==============================] - 8s 49ms/step - loss: 0.2406 - sparse_categorical_accuracy: 0.9264 - val_loss: 0.2263 - val_sparse_categorical_accuracy: 0.9270\n",
      "Epoch 29/50\n",
      "157/157 [==============================] - 9s 56ms/step - loss: 0.2358 - sparse_categorical_accuracy: 0.9265 - val_loss: 0.2255 - val_sparse_categorical_accuracy: 0.9265\n",
      "Epoch 30/50\n",
      "157/157 [==============================] - 8s 52ms/step - loss: 0.2371 - sparse_categorical_accuracy: 0.9286 - val_loss: 0.2288 - val_sparse_categorical_accuracy: 0.9255\n",
      "Epoch 31/50\n",
      "157/157 [==============================] - 8s 51ms/step - loss: 0.2343 - sparse_categorical_accuracy: 0.9270 - val_loss: 0.2265 - val_sparse_categorical_accuracy: 0.9274\n",
      "Epoch 32/50\n",
      "157/157 [==============================] - 9s 55ms/step - loss: 0.2365 - sparse_categorical_accuracy: 0.9279 - val_loss: 0.2266 - val_sparse_categorical_accuracy: 0.9260\n",
      "Epoch 33/50\n",
      "157/157 [==============================] - 10s 61ms/step - loss: 0.2355 - sparse_categorical_accuracy: 0.9276 - val_loss: 0.2248 - val_sparse_categorical_accuracy: 0.9255\n",
      "Epoch 34/50\n",
      "157/157 [==============================] - 8s 51ms/step - loss: 0.2326 - sparse_categorical_accuracy: 0.9284 - val_loss: 0.2226 - val_sparse_categorical_accuracy: 0.9254\n",
      "Epoch 35/50\n",
      "157/157 [==============================] - 8s 50ms/step - loss: 0.2334 - sparse_categorical_accuracy: 0.9274 - val_loss: 0.2241 - val_sparse_categorical_accuracy: 0.9268\n",
      "Epoch 36/50\n",
      "157/157 [==============================] - 8s 50ms/step - loss: 0.2331 - sparse_categorical_accuracy: 0.9288 - val_loss: 0.2248 - val_sparse_categorical_accuracy: 0.9257\n",
      "Epoch 37/50\n",
      "157/157 [==============================] - 8s 49ms/step - loss: 0.2354 - sparse_categorical_accuracy: 0.9278 - val_loss: 0.2267 - val_sparse_categorical_accuracy: 0.9249\n",
      "Epoch 38/50\n",
      "157/157 [==============================] - 9s 58ms/step - loss: 0.2320 - sparse_categorical_accuracy: 0.9290 - val_loss: 0.2274 - val_sparse_categorical_accuracy: 0.9244\n",
      "Epoch 39/50\n",
      "157/157 [==============================] - 8s 50ms/step - loss: 0.2339 - sparse_categorical_accuracy: 0.9274 - val_loss: 0.2243 - val_sparse_categorical_accuracy: 0.9258\n",
      "Epoch 40/50\n",
      "157/157 [==============================] - 8s 49ms/step - loss: 0.2318 - sparse_categorical_accuracy: 0.9295 - val_loss: 0.2267 - val_sparse_categorical_accuracy: 0.9259\n",
      "Epoch 41/50\n",
      "157/157 [==============================] - 9s 56ms/step - loss: 0.2322 - sparse_categorical_accuracy: 0.9294 - val_loss: 0.2282 - val_sparse_categorical_accuracy: 0.9244\n",
      "Epoch 42/50\n",
      "157/157 [==============================] - 8s 51ms/step - loss: 0.2331 - sparse_categorical_accuracy: 0.9276 - val_loss: 0.2313 - val_sparse_categorical_accuracy: 0.9262\n",
      "Epoch 43/50\n",
      "157/157 [==============================] - 8s 49ms/step - loss: 0.2330 - sparse_categorical_accuracy: 0.9289 - val_loss: 0.2287 - val_sparse_categorical_accuracy: 0.9259\n",
      "Epoch 44/50\n",
      "157/157 [==============================] - 9s 56ms/step - loss: 0.2310 - sparse_categorical_accuracy: 0.9280 - val_loss: 0.2241 - val_sparse_categorical_accuracy: 0.9248\n",
      "Epoch 45/50\n",
      "157/157 [==============================] - 8s 49ms/step - loss: 0.2291 - sparse_categorical_accuracy: 0.9279 - val_loss: 0.2226 - val_sparse_categorical_accuracy: 0.9262\n",
      "Epoch 46/50\n",
      "157/157 [==============================] - 8s 50ms/step - loss: 0.2313 - sparse_categorical_accuracy: 0.9289 - val_loss: 0.2257 - val_sparse_categorical_accuracy: 0.9266\n",
      "Epoch 47/50\n",
      "157/157 [==============================] - 8s 50ms/step - loss: 0.2364 - sparse_categorical_accuracy: 0.9278 - val_loss: 0.2268 - val_sparse_categorical_accuracy: 0.9252\n",
      "Epoch 48/50\n",
      "157/157 [==============================] - 8s 51ms/step - loss: 0.2331 - sparse_categorical_accuracy: 0.9290 - val_loss: 0.2330 - val_sparse_categorical_accuracy: 0.9249\n",
      "Epoch 49/50\n",
      "157/157 [==============================] - 9s 56ms/step - loss: 0.2314 - sparse_categorical_accuracy: 0.9293 - val_loss: 0.2257 - val_sparse_categorical_accuracy: 0.9243\n",
      "Epoch 50/50\n",
      "157/157 [==============================] - 9s 56ms/step - loss: 0.2311 - sparse_categorical_accuracy: 0.9288 - val_loss: 0.2288 - val_sparse_categorical_accuracy: 0.9268\n"
     ]
    }
   ],
   "source": [
    "model_scl_101, history_scl_101 = train_classifier(encoder_model_101)"
   ]
  },
  {
   "cell_type": "code",
   "execution_count": 35,
   "id": "1a49e26f",
   "metadata": {
    "execution": {
     "iopub.execute_input": "2022-05-03T18:13:18.780967Z",
     "iopub.status.busy": "2022-05-03T18:13:18.780069Z",
     "iopub.status.idle": "2022-05-03T18:13:27.142096Z",
     "shell.execute_reply": "2022-05-03T18:13:27.141628Z",
     "shell.execute_reply.started": "2022-05-03T17:04:28.608548Z"
    },
    "papermill": {
     "duration": 19.636109,
     "end_time": "2022-05-03T18:13:27.142233",
     "exception": false,
     "start_time": "2022-05-03T18:13:07.506124",
     "status": "completed"
    },
    "tags": []
   },
   "outputs": [
    {
     "name": "stdout",
     "output_type": "stream",
     "text": [
      "313/313 [==============================] - 8s 27ms/step - loss: 1.4403 - sparse_categorical_accuracy: 0.6870\n"
     ]
    },
    {
     "data": {
      "text/plain": [
       "[1.4403364658355713, 0.6869999766349792]"
      ]
     },
     "execution_count": 35,
     "metadata": {},
     "output_type": "execute_result"
    }
   ],
   "source": [
    "model_scl_101.evaluate(aug_test,testY)"
   ]
  },
  {
   "cell_type": "code",
   "execution_count": 36,
   "id": "8eb89f48",
   "metadata": {
    "execution": {
     "iopub.execute_input": "2022-05-03T18:13:49.660909Z",
     "iopub.status.busy": "2022-05-03T18:13:49.660301Z",
     "iopub.status.idle": "2022-05-03T18:13:49.859842Z",
     "shell.execute_reply": "2022-05-03T18:13:49.860411Z",
     "shell.execute_reply.started": "2022-05-03T17:04:36.801835Z"
    },
    "papermill": {
     "duration": 11.515779,
     "end_time": "2022-05-03T18:13:49.860559",
     "exception": false,
     "start_time": "2022-05-03T18:13:38.344780",
     "status": "completed"
    },
    "tags": []
   },
   "outputs": [
    {
     "data": {
      "image/png": "[encoded data removed]",
      "text/plain": [
       "<Figure size 432x288 with 1 Axes>"
      ]
     },
     "metadata": {
      "needs_background": "light"
     },
     "output_type": "display_data"
    }
   ],
   "source": [
    "plot_metric_mult([history_scl,history_scl_101],'loss',['ResNet50V2','ResNet101V2'])"
   ]
  },
  {
   "cell_type": "code",
   "execution_count": 37,
   "id": "f3ba2b71",
   "metadata": {
    "execution": {
     "iopub.execute_input": "2022-05-03T18:14:12.864102Z",
     "iopub.status.busy": "2022-05-03T18:14:12.863462Z",
     "iopub.status.idle": "2022-05-03T18:14:13.041694Z",
     "shell.execute_reply": "2022-05-03T18:14:13.041202Z",
     "shell.execute_reply.started": "2022-05-03T17:04:37.003374Z"
    },
    "papermill": {
     "duration": 11.489647,
     "end_time": "2022-05-03T18:14:13.041811",
     "exception": false,
     "start_time": "2022-05-03T18:14:01.552164",
     "status": "completed"
    },
    "tags": []
   },
   "outputs": [
    {
     "data": {
      "image/png": "[encoded data removed]",
      "text/plain": [
       "<Figure size 432x288 with 1 Axes>"
      ]
     },
     "metadata": {
      "needs_background": "light"
     },
     "output_type": "display_data"
    }
   ],
   "source": [
    "plot_metric_mult([history_scl,history_scl_101],'sparse_categorical_accuracy',['ResNet50V2','ResNet101V2'])"
   ]
  },
  {
   "cell_type": "markdown",
   "id": "2b7b0083",
   "metadata": {
    "papermill": {
     "duration": 11.261707,
     "end_time": "2022-05-03T18:14:36.038958",
     "exception": false,
     "start_time": "2022-05-03T18:14:24.777251",
     "status": "completed"
    },
    "tags": []
   },
   "source": [
    "### Hyperparameter Tunning"
   ]
  },
  {
   "cell_type": "code",
   "execution_count": 38,
   "id": "ff0cb97e",
   "metadata": {
    "execution": {
     "iopub.execute_input": "2022-05-03T18:14:58.923170Z",
     "iopub.status.busy": "2022-05-03T18:14:58.921406Z",
     "iopub.status.idle": "2022-05-03T18:14:58.923732Z",
     "shell.execute_reply": "2022-05-03T18:14:58.924154Z",
     "shell.execute_reply.started": "2022-05-03T17:04:37.211423Z"
    },
    "papermill": {
     "duration": 11.665311,
     "end_time": "2022-05-03T18:14:58.924295",
     "exception": false,
     "start_time": "2022-05-03T18:14:47.258984",
     "status": "completed"
    },
    "tags": []
   },
   "outputs": [],
   "source": [
    "optimizers = ['adam','sgd','RMSprop']"
   ]
  },
  {
   "cell_type": "code",
   "execution_count": 39,
   "id": "2f67290f",
   "metadata": {
    "execution": {
     "iopub.execute_input": "2022-05-03T18:15:21.397798Z",
     "iopub.status.busy": "2022-05-03T18:15:21.397252Z",
     "iopub.status.idle": "2022-05-03T19:01:34.195813Z",
     "shell.execute_reply": "2022-05-03T19:01:34.195367Z",
     "shell.execute_reply.started": "2022-05-03T17:10:24.297237Z"
    },
    "papermill": {
     "duration": 2784.066521,
     "end_time": "2022-05-03T19:01:34.195940",
     "exception": false,
     "start_time": "2022-05-03T18:15:10.129419",
     "status": "completed"
    },
    "tags": []
   },
   "outputs": [
    {
     "name": "stdout",
     "output_type": "stream",
     "text": [
      "Model: \"Projection_Model\"\n",
      "_________________________________________________________________\n",
      "Layer (type)                 Output Shape              Param #   \n",
      "=================================================================\n",
      "ResNet_Model_50 (Sequential) (None, 2048)              23564800  \n",
      "_________________________________________________________________\n",
      "dense_8 (Dense)              (None, 128)               262272    \n",
      "=================================================================\n",
      "Total params: 23,827,072\n",
      "Trainable params: 23,781,632\n",
      "Non-trainable params: 45,440\n",
      "_________________________________________________________________\n",
      "Epoch 1/50\n",
      "196/196 [==============================] - 18s 68ms/step - loss: 5.2390 - accuracy: 0.0012\n",
      "Epoch 2/50\n",
      "196/196 [==============================] - 13s 68ms/step - loss: 5.0238 - accuracy: 0.0019\n",
      "Epoch 3/50\n",
      "196/196 [==============================] - 13s 69ms/step - loss: 4.8803 - accuracy: 0.0027\n",
      "Epoch 4/50\n",
      "196/196 [==============================] - 13s 68ms/step - loss: 4.7491 - accuracy: 0.0025\n",
      "Epoch 5/50\n",
      "196/196 [==============================] - 13s 68ms/step - loss: 4.6308 - accuracy: 0.0020\n",
      "Epoch 6/50\n",
      "196/196 [==============================] - 13s 68ms/step - loss: 4.5123 - accuracy: 0.0021\n",
      "Epoch 7/50\n",
      "196/196 [==============================] - 13s 68ms/step - loss: 4.4002 - accuracy: 0.0013\n",
      "Epoch 8/50\n",
      "196/196 [==============================] - 13s 68ms/step - loss: 4.2942 - accuracy: 0.0012\n",
      "Epoch 9/50\n",
      "196/196 [==============================] - 13s 69ms/step - loss: 4.1924 - accuracy: 0.0010\n",
      "Epoch 10/50\n",
      "196/196 [==============================] - 14s 70ms/step - loss: 4.1010 - accuracy: 7.2000e-04\n",
      "Epoch 11/50\n",
      "196/196 [==============================] - 13s 67ms/step - loss: 4.0064 - accuracy: 7.8000e-04\n",
      "Epoch 12/50\n",
      "196/196 [==============================] - 13s 67ms/step - loss: 3.9373 - accuracy: 7.6000e-04\n",
      "Epoch 13/50\n",
      "196/196 [==============================] - 13s 68ms/step - loss: 3.8635 - accuracy: 6.8000e-04\n",
      "Epoch 14/50\n",
      "196/196 [==============================] - 13s 67ms/step - loss: 3.8124 - accuracy: 0.0010\n",
      "Epoch 15/50\n",
      "196/196 [==============================] - 13s 68ms/step - loss: 3.7551 - accuracy: 8.4000e-04\n",
      "Epoch 16/50\n",
      "196/196 [==============================] - 13s 67ms/step - loss: 3.7050 - accuracy: 0.0010\n",
      "Epoch 17/50\n",
      "196/196 [==============================] - 13s 67ms/step - loss: 3.6570 - accuracy: 6.0000e-04\n",
      "Epoch 18/50\n",
      "196/196 [==============================] - 13s 68ms/step - loss: 3.6278 - accuracy: 9.8000e-04\n",
      "Epoch 19/50\n",
      "196/196 [==============================] - 13s 67ms/step - loss: 3.6098 - accuracy: 5.8000e-04\n",
      "Epoch 20/50\n",
      "196/196 [==============================] - 14s 70ms/step - loss: 3.5620 - accuracy: 4.2000e-04\n",
      "Epoch 21/50\n",
      "196/196 [==============================] - 13s 69ms/step - loss: 3.5458 - accuracy: 4.4000e-04\n",
      "Epoch 22/50\n",
      "196/196 [==============================] - 13s 68ms/step - loss: 3.5051 - accuracy: 5.6000e-04\n",
      "Epoch 23/50\n",
      "196/196 [==============================] - 13s 67ms/step - loss: 3.5006 - accuracy: 3.0000e-04\n",
      "Epoch 24/50\n",
      "196/196 [==============================] - 13s 67ms/step - loss: 3.4871 - accuracy: 3.4000e-04\n",
      "Epoch 25/50\n",
      "196/196 [==============================] - 13s 67ms/step - loss: 3.4763 - accuracy: 4.2000e-04\n",
      "Epoch 26/50\n",
      "196/196 [==============================] - 13s 67ms/step - loss: 3.4696 - accuracy: 3.0000e-04\n",
      "Epoch 27/50\n",
      "196/196 [==============================] - 13s 68ms/step - loss: 3.4403 - accuracy: 2.0000e-04\n",
      "Epoch 28/50\n",
      "196/196 [==============================] - 13s 67ms/step - loss: 3.4366 - accuracy: 3.0000e-04\n",
      "Epoch 29/50\n",
      "196/196 [==============================] - 13s 67ms/step - loss: 3.4305 - accuracy: 3.4000e-04\n",
      "Epoch 30/50\n",
      "196/196 [==============================] - 13s 68ms/step - loss: 3.4154 - accuracy: 2.6000e-04\n",
      "Epoch 31/50\n",
      "196/196 [==============================] - 14s 69ms/step - loss: 3.4164 - accuracy: 2.2000e-04\n",
      "Epoch 32/50\n",
      "196/196 [==============================] - 14s 69ms/step - loss: 3.4071 - accuracy: 2.2000e-04\n",
      "Epoch 33/50\n",
      "196/196 [==============================] - 13s 67ms/step - loss: 3.4025 - accuracy: 1.2000e-04\n",
      "Epoch 34/50\n",
      "196/196 [==============================] - 13s 67ms/step - loss: 3.3915 - accuracy: 1.8000e-04\n",
      "Epoch 35/50\n",
      "196/196 [==============================] - 13s 67ms/step - loss: 3.4033 - accuracy: 2.0000e-04\n",
      "Epoch 36/50\n",
      "196/196 [==============================] - 13s 67ms/step - loss: 3.3952 - accuracy: 1.2000e-04\n",
      "Epoch 37/50\n",
      "196/196 [==============================] - 13s 68ms/step - loss: 3.3895 - accuracy: 1.4000e-04\n",
      "Epoch 38/50\n",
      "196/196 [==============================] - 13s 67ms/step - loss: 3.3765 - accuracy: 8.0000e-05\n",
      "Epoch 39/50\n",
      "196/196 [==============================] - 13s 67ms/step - loss: 3.3850 - accuracy: 1.6000e-04\n",
      "Epoch 40/50\n",
      "196/196 [==============================] - 13s 67ms/step - loss: 3.3780 - accuracy: 2.4000e-04\n",
      "Epoch 41/50\n",
      "196/196 [==============================] - 13s 68ms/step - loss: 3.3747 - accuracy: 2.4000e-04\n",
      "Epoch 42/50\n",
      "196/196 [==============================] - 14s 71ms/step - loss: 3.3804 - accuracy: 1.0000e-04\n",
      "Epoch 43/50\n",
      "196/196 [==============================] - 13s 68ms/step - loss: 3.3690 - accuracy: 1.0000e-04\n",
      "Epoch 44/50\n",
      "196/196 [==============================] - 13s 67ms/step - loss: 3.3679 - accuracy: 1.8000e-04\n",
      "Epoch 45/50\n",
      "196/196 [==============================] - 13s 67ms/step - loss: 3.3567 - accuracy: 1.8000e-04\n",
      "Epoch 46/50\n",
      "196/196 [==============================] - 13s 67ms/step - loss: 3.3732 - accuracy: 3.0000e-04\n",
      "Epoch 47/50\n",
      "196/196 [==============================] - 13s 68ms/step - loss: 3.3486 - accuracy: 8.0000e-05\n",
      "Epoch 48/50\n",
      "196/196 [==============================] - 13s 67ms/step - loss: 3.3639 - accuracy: 2.4000e-04\n",
      "Epoch 49/50\n",
      "196/196 [==============================] - 13s 67ms/step - loss: 3.3549 - accuracy: 1.4000e-04\n",
      "Epoch 50/50\n",
      "196/196 [==============================] - 13s 68ms/step - loss: 3.3575 - accuracy: 1.0000e-04\n",
      "Model: \"Supervised_Contrastive_Model\"\n",
      "_________________________________________________________________\n",
      "Layer (type)                 Output Shape              Param #   \n",
      "=================================================================\n",
      "ResNet_Model_50 (Sequential) (None, 2048)              23564800  \n",
      "_________________________________________________________________\n",
      "dropout_6 (Dropout)          (None, 2048)              0         \n",
      "_________________________________________________________________\n",
      "dense_9 (Dense)              (None, 512)               1049088   \n",
      "_________________________________________________________________\n",
      "dropout_7 (Dropout)          (None, 512)               0         \n",
      "_________________________________________________________________\n",
      "dense_10 (Dense)             (None, 10)                5130      \n",
      "=================================================================\n",
      "Total params: 24,619,018\n",
      "Trainable params: 1,054,218\n",
      "Non-trainable params: 23,564,800\n",
      "_________________________________________________________________\n",
      "Epoch 1/50\n",
      "157/157 [==============================] - 8s 34ms/step - loss: 0.1510 - sparse_categorical_accuracy: 0.9663 - val_loss: 0.0849 - val_sparse_categorical_accuracy: 0.9754\n",
      "Epoch 2/50\n",
      "157/157 [==============================] - 4s 28ms/step - loss: 0.1032 - sparse_categorical_accuracy: 0.9740 - val_loss: 0.0802 - val_sparse_categorical_accuracy: 0.9749\n",
      "Epoch 3/50\n",
      "157/157 [==============================] - 5s 29ms/step - loss: 0.0986 - sparse_categorical_accuracy: 0.9746 - val_loss: 0.0832 - val_sparse_categorical_accuracy: 0.9759\n",
      "Epoch 4/50\n",
      "157/157 [==============================] - 5s 30ms/step - loss: 0.0969 - sparse_categorical_accuracy: 0.9750 - val_loss: 0.0772 - val_sparse_categorical_accuracy: 0.9762\n",
      "Epoch 5/50\n",
      "157/157 [==============================] - 5s 33ms/step - loss: 0.0948 - sparse_categorical_accuracy: 0.9755 - val_loss: 0.0743 - val_sparse_categorical_accuracy: 0.9774\n",
      "Epoch 6/50\n",
      "157/157 [==============================] - 5s 30ms/step - loss: 0.0931 - sparse_categorical_accuracy: 0.9755 - val_loss: 0.0730 - val_sparse_categorical_accuracy: 0.9771\n",
      "Epoch 7/50\n",
      "157/157 [==============================] - 5s 31ms/step - loss: 0.0924 - sparse_categorical_accuracy: 0.9758 - val_loss: 0.0752 - val_sparse_categorical_accuracy: 0.9750\n",
      "Epoch 8/50\n",
      "157/157 [==============================] - 5s 30ms/step - loss: 0.0898 - sparse_categorical_accuracy: 0.9754 - val_loss: 0.0759 - val_sparse_categorical_accuracy: 0.9760\n",
      "Epoch 9/50\n",
      "157/157 [==============================] - 5s 31ms/step - loss: 0.0907 - sparse_categorical_accuracy: 0.9755 - val_loss: 0.0787 - val_sparse_categorical_accuracy: 0.9757\n",
      "Epoch 10/50\n",
      "157/157 [==============================] - 4s 28ms/step - loss: 0.0890 - sparse_categorical_accuracy: 0.9756 - val_loss: 0.0738 - val_sparse_categorical_accuracy: 0.9755\n",
      "Epoch 11/50\n",
      "157/157 [==============================] - 5s 31ms/step - loss: 0.0885 - sparse_categorical_accuracy: 0.9757 - val_loss: 0.0750 - val_sparse_categorical_accuracy: 0.9755\n",
      "Epoch 12/50\n",
      "157/157 [==============================] - 5s 29ms/step - loss: 0.0871 - sparse_categorical_accuracy: 0.9761 - val_loss: 0.0759 - val_sparse_categorical_accuracy: 0.9766\n",
      "Epoch 13/50\n",
      "157/157 [==============================] - 4s 28ms/step - loss: 0.0874 - sparse_categorical_accuracy: 0.9757 - val_loss: 0.0778 - val_sparse_categorical_accuracy: 0.9751\n",
      "Epoch 14/50\n",
      "157/157 [==============================] - 4s 28ms/step - loss: 0.0888 - sparse_categorical_accuracy: 0.9764 - val_loss: 0.0762 - val_sparse_categorical_accuracy: 0.9750\n",
      "Epoch 15/50\n",
      "157/157 [==============================] - 4s 28ms/step - loss: 0.0873 - sparse_categorical_accuracy: 0.9760 - val_loss: 0.0744 - val_sparse_categorical_accuracy: 0.9776\n",
      "Epoch 16/50\n",
      "157/157 [==============================] - 4s 28ms/step - loss: 0.0867 - sparse_categorical_accuracy: 0.9758 - val_loss: 0.0735 - val_sparse_categorical_accuracy: 0.9768\n",
      "Epoch 17/50\n",
      "157/157 [==============================] - 5s 31ms/step - loss: 0.0863 - sparse_categorical_accuracy: 0.9764 - val_loss: 0.0735 - val_sparse_categorical_accuracy: 0.9768\n",
      "Epoch 18/50\n",
      "157/157 [==============================] - 4s 28ms/step - loss: 0.0871 - sparse_categorical_accuracy: 0.9757 - val_loss: 0.0735 - val_sparse_categorical_accuracy: 0.9764\n",
      "Epoch 19/50\n",
      "157/157 [==============================] - 5s 30ms/step - loss: 0.0879 - sparse_categorical_accuracy: 0.9762 - val_loss: 0.0737 - val_sparse_categorical_accuracy: 0.9765\n",
      "Epoch 20/50\n",
      "157/157 [==============================] - 4s 28ms/step - loss: 0.0859 - sparse_categorical_accuracy: 0.9762 - val_loss: 0.0745 - val_sparse_categorical_accuracy: 0.9766\n",
      "Epoch 21/50\n",
      "157/157 [==============================] - 4s 28ms/step - loss: 0.0872 - sparse_categorical_accuracy: 0.9758 - val_loss: 0.0734 - val_sparse_categorical_accuracy: 0.9755\n",
      "Epoch 22/50\n",
      "157/157 [==============================] - 4s 28ms/step - loss: 0.0854 - sparse_categorical_accuracy: 0.9769 - val_loss: 0.0742 - val_sparse_categorical_accuracy: 0.9757\n",
      "Epoch 23/50\n",
      "157/157 [==============================] - 4s 28ms/step - loss: 0.0860 - sparse_categorical_accuracy: 0.9757 - val_loss: 0.0742 - val_sparse_categorical_accuracy: 0.9756\n",
      "Epoch 24/50\n",
      "157/157 [==============================] - 4s 28ms/step - loss: 0.0840 - sparse_categorical_accuracy: 0.9765 - val_loss: 0.0750 - val_sparse_categorical_accuracy: 0.9759\n",
      "Epoch 25/50\n",
      "157/157 [==============================] - 4s 28ms/step - loss: 0.0852 - sparse_categorical_accuracy: 0.9763 - val_loss: 0.0758 - val_sparse_categorical_accuracy: 0.9760\n",
      "Epoch 26/50\n",
      "157/157 [==============================] - 4s 28ms/step - loss: 0.0853 - sparse_categorical_accuracy: 0.9763 - val_loss: 0.0727 - val_sparse_categorical_accuracy: 0.9774\n",
      "Epoch 27/50\n",
      "157/157 [==============================] - 5s 29ms/step - loss: 0.0843 - sparse_categorical_accuracy: 0.9772 - val_loss: 0.0741 - val_sparse_categorical_accuracy: 0.9772\n",
      "Epoch 28/50\n",
      "157/157 [==============================] - 4s 28ms/step - loss: 0.0824 - sparse_categorical_accuracy: 0.9772 - val_loss: 0.0732 - val_sparse_categorical_accuracy: 0.9778\n",
      "Epoch 29/50\n",
      "157/157 [==============================] - 5s 29ms/step - loss: 0.0861 - sparse_categorical_accuracy: 0.9768 - val_loss: 0.0733 - val_sparse_categorical_accuracy: 0.9758\n",
      "Epoch 30/50\n",
      "157/157 [==============================] - 4s 28ms/step - loss: 0.0852 - sparse_categorical_accuracy: 0.9767 - val_loss: 0.0769 - val_sparse_categorical_accuracy: 0.9769\n",
      "Epoch 31/50\n",
      "157/157 [==============================] - 4s 28ms/step - loss: 0.0850 - sparse_categorical_accuracy: 0.9761 - val_loss: 0.0759 - val_sparse_categorical_accuracy: 0.9757\n",
      "Epoch 32/50\n",
      "157/157 [==============================] - 4s 29ms/step - loss: 0.0838 - sparse_categorical_accuracy: 0.9765 - val_loss: 0.0741 - val_sparse_categorical_accuracy: 0.9770\n",
      "Epoch 33/50\n",
      "157/157 [==============================] - 4s 28ms/step - loss: 0.0857 - sparse_categorical_accuracy: 0.9767 - val_loss: 0.0740 - val_sparse_categorical_accuracy: 0.9756\n",
      "Epoch 34/50\n",
      "157/157 [==============================] - 5s 30ms/step - loss: 0.0833 - sparse_categorical_accuracy: 0.9765 - val_loss: 0.0769 - val_sparse_categorical_accuracy: 0.9742\n",
      "Epoch 35/50\n",
      "157/157 [==============================] - 5s 29ms/step - loss: 0.0836 - sparse_categorical_accuracy: 0.9767 - val_loss: 0.0748 - val_sparse_categorical_accuracy: 0.9757\n",
      "Epoch 36/50\n",
      "157/157 [==============================] - 5s 31ms/step - loss: 0.0828 - sparse_categorical_accuracy: 0.9771 - val_loss: 0.0741 - val_sparse_categorical_accuracy: 0.9756\n",
      "Epoch 37/50\n",
      "157/157 [==============================] - 5s 31ms/step - loss: 0.0835 - sparse_categorical_accuracy: 0.9760 - val_loss: 0.0740 - val_sparse_categorical_accuracy: 0.9760\n",
      "Epoch 38/50\n",
      "157/157 [==============================] - 5s 30ms/step - loss: 0.0818 - sparse_categorical_accuracy: 0.9767 - val_loss: 0.0739 - val_sparse_categorical_accuracy: 0.9768\n",
      "Epoch 39/50\n",
      "157/157 [==============================] - 5s 31ms/step - loss: 0.0837 - sparse_categorical_accuracy: 0.9761 - val_loss: 0.0744 - val_sparse_categorical_accuracy: 0.9767\n",
      "Epoch 40/50\n",
      "157/157 [==============================] - 5s 31ms/step - loss: 0.0819 - sparse_categorical_accuracy: 0.9761 - val_loss: 0.0744 - val_sparse_categorical_accuracy: 0.9773\n",
      "Epoch 41/50\n",
      "157/157 [==============================] - 5s 30ms/step - loss: 0.0820 - sparse_categorical_accuracy: 0.9768 - val_loss: 0.0777 - val_sparse_categorical_accuracy: 0.9760\n",
      "Epoch 42/50\n",
      "157/157 [==============================] - 4s 28ms/step - loss: 0.0831 - sparse_categorical_accuracy: 0.9766 - val_loss: 0.0762 - val_sparse_categorical_accuracy: 0.9758\n",
      "Epoch 43/50\n",
      "157/157 [==============================] - 4s 28ms/step - loss: 0.0826 - sparse_categorical_accuracy: 0.9764 - val_loss: 0.0737 - val_sparse_categorical_accuracy: 0.9767\n",
      "Epoch 44/50\n",
      "157/157 [==============================] - 4s 29ms/step - loss: 0.0822 - sparse_categorical_accuracy: 0.9768 - val_loss: 0.0751 - val_sparse_categorical_accuracy: 0.9761\n",
      "Epoch 45/50\n",
      "157/157 [==============================] - 4s 28ms/step - loss: 0.0824 - sparse_categorical_accuracy: 0.9768 - val_loss: 0.0732 - val_sparse_categorical_accuracy: 0.9762\n",
      "Epoch 46/50\n",
      "157/157 [==============================] - 4s 28ms/step - loss: 0.0815 - sparse_categorical_accuracy: 0.9769 - val_loss: 0.0757 - val_sparse_categorical_accuracy: 0.9761\n",
      "Epoch 47/50\n",
      "157/157 [==============================] - 4s 28ms/step - loss: 0.0826 - sparse_categorical_accuracy: 0.9763 - val_loss: 0.0743 - val_sparse_categorical_accuracy: 0.9760\n",
      "Epoch 48/50\n",
      "157/157 [==============================] - 5s 29ms/step - loss: 0.0830 - sparse_categorical_accuracy: 0.9760 - val_loss: 0.0731 - val_sparse_categorical_accuracy: 0.9767\n",
      "Epoch 49/50\n",
      "157/157 [==============================] - 4s 28ms/step - loss: 0.0838 - sparse_categorical_accuracy: 0.9766 - val_loss: 0.0750 - val_sparse_categorical_accuracy: 0.9767\n",
      "Epoch 50/50\n",
      "157/157 [==============================] - 4s 28ms/step - loss: 0.0833 - sparse_categorical_accuracy: 0.9761 - val_loss: 0.0750 - val_sparse_categorical_accuracy: 0.9758\n",
      "Model: \"Projection_Model\"\n",
      "_________________________________________________________________\n",
      "Layer (type)                 Output Shape              Param #   \n",
      "=================================================================\n",
      "ResNet_Model_50 (Sequential) (None, 2048)              23564800  \n",
      "_________________________________________________________________\n",
      "dense_11 (Dense)             (None, 128)               262272    \n",
      "=================================================================\n",
      "Total params: 23,827,072\n",
      "Trainable params: 23,781,632\n",
      "Non-trainable params: 45,440\n",
      "_________________________________________________________________\n",
      "Epoch 1/50\n",
      "196/196 [==============================] - 16s 65ms/step - loss: 5.4914 - accuracy: 2.2000e-04\n",
      "Epoch 2/50\n",
      "196/196 [==============================] - 13s 65ms/step - loss: 5.4133 - accuracy: 0.0000e+00\n",
      "Epoch 3/50\n",
      "196/196 [==============================] - 13s 65ms/step - loss: 5.3421 - accuracy: 0.0000e+00\n",
      "Epoch 4/50\n",
      "196/196 [==============================] - 13s 68ms/step - loss: 5.2751 - accuracy: 0.0000e+00\n",
      "Epoch 5/50\n",
      "196/196 [==============================] - 13s 67ms/step - loss: 5.2177 - accuracy: 0.0000e+00\n",
      "Epoch 6/50\n",
      "196/196 [==============================] - 13s 65ms/step - loss: 5.1743 - accuracy: 0.0000e+00\n",
      "Epoch 7/50\n",
      "196/196 [==============================] - 13s 65ms/step - loss: 5.1331 - accuracy: 0.0000e+00\n",
      "Epoch 8/50\n",
      "196/196 [==============================] - 13s 65ms/step - loss: 5.0944 - accuracy: 0.0000e+00\n",
      "Epoch 9/50\n",
      "196/196 [==============================] - 13s 65ms/step - loss: 5.0536 - accuracy: 0.0000e+00\n",
      "Epoch 10/50\n",
      "196/196 [==============================] - 13s 66ms/step - loss: 5.0078 - accuracy: 0.0000e+00\n",
      "Epoch 11/50\n",
      "196/196 [==============================] - 13s 65ms/step - loss: 4.9631 - accuracy: 0.0000e+00\n",
      "Epoch 12/50\n",
      "196/196 [==============================] - 13s 65ms/step - loss: 4.9142 - accuracy: 0.0000e+00\n",
      "Epoch 13/50\n",
      "196/196 [==============================] - 13s 65ms/step - loss: 4.8628 - accuracy: 0.0000e+00\n",
      "Epoch 14/50\n",
      "196/196 [==============================] - 13s 65ms/step - loss: 4.8201 - accuracy: 0.0000e+00\n",
      "Epoch 15/50\n",
      "196/196 [==============================] - 13s 67ms/step - loss: 4.7689 - accuracy: 0.0000e+00\n",
      "Epoch 16/50\n",
      "196/196 [==============================] - 13s 66ms/step - loss: 4.7194 - accuracy: 0.0000e+00\n",
      "Epoch 17/50\n",
      "196/196 [==============================] - 13s 67ms/step - loss: 4.6800 - accuracy: 0.0000e+00\n",
      "Epoch 18/50\n",
      "196/196 [==============================] - 13s 65ms/step - loss: 4.6181 - accuracy: 0.0000e+00\n",
      "Epoch 19/50\n",
      "196/196 [==============================] - 13s 65ms/step - loss: 4.5793 - accuracy: 0.0000e+00\n",
      "Epoch 20/50\n",
      "196/196 [==============================] - 13s 65ms/step - loss: 4.5201 - accuracy: 0.0000e+00\n",
      "Epoch 21/50\n",
      "196/196 [==============================] - 13s 65ms/step - loss: 4.4777 - accuracy: 0.0000e+00\n",
      "Epoch 22/50\n",
      "196/196 [==============================] - 13s 65ms/step - loss: 4.4339 - accuracy: 0.0000e+00\n",
      "Epoch 23/50\n",
      "196/196 [==============================] - 13s 65ms/step - loss: 4.3975 - accuracy: 0.0000e+00\n",
      "Epoch 24/50\n",
      "196/196 [==============================] - 13s 65ms/step - loss: 4.3372 - accuracy: 0.0000e+00\n",
      "Epoch 25/50\n",
      "196/196 [==============================] - 13s 65ms/step - loss: 4.3142 - accuracy: 0.0000e+00\n",
      "Epoch 26/50\n",
      "196/196 [==============================] - 13s 65ms/step - loss: 4.2581 - accuracy: 0.0000e+00\n",
      "Epoch 27/50\n",
      "196/196 [==============================] - 13s 66ms/step - loss: 4.2182 - accuracy: 0.0000e+00\n",
      "Epoch 28/50\n",
      "196/196 [==============================] - 13s 68ms/step - loss: 4.1684 - accuracy: 2.0000e-05\n",
      "Epoch 29/50\n",
      "196/196 [==============================] - 13s 66ms/step - loss: 4.1304 - accuracy: 0.0000e+00\n",
      "Epoch 30/50\n",
      "196/196 [==============================] - 13s 65ms/step - loss: 4.0987 - accuracy: 0.0000e+00\n",
      "Epoch 31/50\n",
      "196/196 [==============================] - 13s 65ms/step - loss: 4.0624 - accuracy: 0.0000e+00\n",
      "Epoch 32/50\n",
      "196/196 [==============================] - 13s 65ms/step - loss: 4.0210 - accuracy: 2.0000e-05\n",
      "Epoch 33/50\n",
      "196/196 [==============================] - 13s 66ms/step - loss: 3.9997 - accuracy: 2.0000e-05\n",
      "Epoch 34/50\n",
      "196/196 [==============================] - 13s 65ms/step - loss: 3.9580 - accuracy: 1.2000e-04\n",
      "Epoch 35/50\n",
      "196/196 [==============================] - 13s 65ms/step - loss: 3.9355 - accuracy: 4.0000e-05\n",
      "Epoch 36/50\n",
      "196/196 [==============================] - 13s 65ms/step - loss: 3.8998 - accuracy: 1.8000e-04\n",
      "Epoch 37/50\n",
      "196/196 [==============================] - 13s 65ms/step - loss: 3.8719 - accuracy: 5.0000e-04\n",
      "Epoch 38/50\n",
      "196/196 [==============================] - 13s 65ms/step - loss: 3.8584 - accuracy: 2.0000e-04\n",
      "Epoch 39/50\n",
      "196/196 [==============================] - 13s 66ms/step - loss: 3.8327 - accuracy: 9.6000e-04\n",
      "Epoch 40/50\n",
      "196/196 [==============================] - 13s 67ms/step - loss: 3.8151 - accuracy: 0.0010\n",
      "Epoch 41/50\n",
      "196/196 [==============================] - 13s 65ms/step - loss: 3.7938 - accuracy: 0.0012\n",
      "Epoch 42/50\n",
      "196/196 [==============================] - 13s 65ms/step - loss: 3.7793 - accuracy: 0.0030\n",
      "Epoch 43/50\n",
      "196/196 [==============================] - 13s 65ms/step - loss: 3.7586 - accuracy: 0.0037\n",
      "Epoch 44/50\n",
      "196/196 [==============================] - 13s 65ms/step - loss: 3.7486 - accuracy: 0.0049\n",
      "Epoch 45/50\n",
      "196/196 [==============================] - 13s 65ms/step - loss: 3.7373 - accuracy: 0.0080\n",
      "Epoch 46/50\n",
      "196/196 [==============================] - 13s 65ms/step - loss: 3.7093 - accuracy: 0.0087\n",
      "Epoch 47/50\n",
      "196/196 [==============================] - 13s 65ms/step - loss: 3.7235 - accuracy: 0.0066\n",
      "Epoch 48/50\n",
      "196/196 [==============================] - 13s 65ms/step - loss: 3.6945 - accuracy: 0.0122\n",
      "Epoch 49/50\n",
      "196/196 [==============================] - 13s 64ms/step - loss: 3.6704 - accuracy: 0.0195\n",
      "Epoch 50/50\n",
      "196/196 [==============================] - 13s 67ms/step - loss: 3.6586 - accuracy: 0.0208\n",
      "Model: \"Supervised_Contrastive_Model\"\n",
      "_________________________________________________________________\n",
      "Layer (type)                 Output Shape              Param #   \n",
      "=================================================================\n",
      "ResNet_Model_50 (Sequential) (None, 2048)              23564800  \n",
      "_________________________________________________________________\n",
      "dropout_8 (Dropout)          (None, 2048)              0         \n",
      "_________________________________________________________________\n",
      "dense_12 (Dense)             (None, 512)               1049088   \n",
      "_________________________________________________________________\n",
      "dropout_9 (Dropout)          (None, 512)               0         \n",
      "_________________________________________________________________\n",
      "dense_13 (Dense)             (None, 10)                5130      \n",
      "=================================================================\n",
      "Total params: 24,619,018\n",
      "Trainable params: 1,054,218\n",
      "Non-trainable params: 23,564,800\n",
      "_________________________________________________________________\n",
      "Epoch 1/50\n",
      "157/157 [==============================] - 10s 39ms/step - loss: 0.5164 - sparse_categorical_accuracy: 0.8051 - val_loss: 0.3732 - val_sparse_categorical_accuracy: 0.8483\n",
      "Epoch 2/50\n",
      "157/157 [==============================] - 5s 30ms/step - loss: 0.4047 - sparse_categorical_accuracy: 0.8398 - val_loss: 0.3586 - val_sparse_categorical_accuracy: 0.8536\n",
      "Epoch 3/50\n",
      "157/157 [==============================] - 5s 31ms/step - loss: 0.3828 - sparse_categorical_accuracy: 0.8470 - val_loss: 0.3451 - val_sparse_categorical_accuracy: 0.8626\n",
      "Epoch 4/50\n",
      "157/157 [==============================] - 4s 29ms/step - loss: 0.3752 - sparse_categorical_accuracy: 0.8494 - val_loss: 0.3365 - val_sparse_categorical_accuracy: 0.8630\n",
      "Epoch 5/50\n",
      "157/157 [==============================] - 4s 28ms/step - loss: 0.3592 - sparse_categorical_accuracy: 0.8538 - val_loss: 0.3348 - val_sparse_categorical_accuracy: 0.8628\n",
      "Epoch 6/50\n",
      "157/157 [==============================] - 4s 29ms/step - loss: 0.3535 - sparse_categorical_accuracy: 0.8566 - val_loss: 0.3330 - val_sparse_categorical_accuracy: 0.8642\n",
      "Epoch 7/50\n",
      "157/157 [==============================] - 4s 28ms/step - loss: 0.3466 - sparse_categorical_accuracy: 0.8588 - val_loss: 0.3273 - val_sparse_categorical_accuracy: 0.8656\n",
      "Epoch 8/50\n",
      "157/157 [==============================] - 4s 28ms/step - loss: 0.3409 - sparse_categorical_accuracy: 0.8587 - val_loss: 0.3391 - val_sparse_categorical_accuracy: 0.8602\n",
      "Epoch 9/50\n",
      "157/157 [==============================] - 4s 28ms/step - loss: 0.3355 - sparse_categorical_accuracy: 0.8628 - val_loss: 0.3304 - val_sparse_categorical_accuracy: 0.8665\n",
      "Epoch 10/50\n",
      "157/157 [==============================] - 4s 28ms/step - loss: 0.3340 - sparse_categorical_accuracy: 0.8633 - val_loss: 0.3313 - val_sparse_categorical_accuracy: 0.8631\n",
      "Epoch 11/50\n",
      "157/157 [==============================] - 4s 28ms/step - loss: 0.3269 - sparse_categorical_accuracy: 0.8648 - val_loss: 0.3251 - val_sparse_categorical_accuracy: 0.8653\n",
      "Epoch 12/50\n",
      "157/157 [==============================] - 4s 28ms/step - loss: 0.3275 - sparse_categorical_accuracy: 0.8639 - val_loss: 0.3303 - val_sparse_categorical_accuracy: 0.8639\n",
      "Epoch 13/50\n",
      "157/157 [==============================] - 4s 29ms/step - loss: 0.3182 - sparse_categorical_accuracy: 0.8677 - val_loss: 0.3233 - val_sparse_categorical_accuracy: 0.8661\n",
      "Epoch 14/50\n",
      "157/157 [==============================] - 4s 28ms/step - loss: 0.3174 - sparse_categorical_accuracy: 0.8670 - val_loss: 0.3293 - val_sparse_categorical_accuracy: 0.8640\n",
      "Epoch 15/50\n",
      "157/157 [==============================] - 4s 28ms/step - loss: 0.3160 - sparse_categorical_accuracy: 0.8701 - val_loss: 0.3273 - val_sparse_categorical_accuracy: 0.8651\n",
      "Epoch 16/50\n",
      "157/157 [==============================] - 4s 28ms/step - loss: 0.3132 - sparse_categorical_accuracy: 0.8679 - val_loss: 0.3272 - val_sparse_categorical_accuracy: 0.8682\n",
      "Epoch 17/50\n",
      "157/157 [==============================] - 4s 28ms/step - loss: 0.3088 - sparse_categorical_accuracy: 0.8729 - val_loss: 0.3278 - val_sparse_categorical_accuracy: 0.8663\n",
      "Epoch 18/50\n",
      "157/157 [==============================] - 4s 28ms/step - loss: 0.3087 - sparse_categorical_accuracy: 0.8697 - val_loss: 0.3246 - val_sparse_categorical_accuracy: 0.8680\n",
      "Epoch 19/50\n",
      "157/157 [==============================] - 4s 28ms/step - loss: 0.3013 - sparse_categorical_accuracy: 0.8743 - val_loss: 0.3239 - val_sparse_categorical_accuracy: 0.8655\n",
      "Epoch 20/50\n",
      "157/157 [==============================] - 4s 28ms/step - loss: 0.3017 - sparse_categorical_accuracy: 0.8736 - val_loss: 0.3266 - val_sparse_categorical_accuracy: 0.8667\n",
      "Epoch 21/50\n",
      "157/157 [==============================] - 5s 29ms/step - loss: 0.2966 - sparse_categorical_accuracy: 0.8751 - val_loss: 0.3238 - val_sparse_categorical_accuracy: 0.8663\n",
      "Epoch 22/50\n",
      "157/157 [==============================] - 4s 28ms/step - loss: 0.2957 - sparse_categorical_accuracy: 0.8748 - val_loss: 0.3314 - val_sparse_categorical_accuracy: 0.8640\n",
      "Epoch 23/50\n",
      "157/157 [==============================] - 4s 28ms/step - loss: 0.2985 - sparse_categorical_accuracy: 0.8752 - val_loss: 0.3272 - val_sparse_categorical_accuracy: 0.8657\n",
      "Epoch 24/50\n",
      "157/157 [==============================] - 4s 28ms/step - loss: 0.2925 - sparse_categorical_accuracy: 0.8766 - val_loss: 0.3297 - val_sparse_categorical_accuracy: 0.8636\n",
      "Epoch 25/50\n",
      "157/157 [==============================] - 5s 32ms/step - loss: 0.2886 - sparse_categorical_accuracy: 0.8800 - val_loss: 0.3283 - val_sparse_categorical_accuracy: 0.8667\n",
      "Epoch 26/50\n",
      "157/157 [==============================] - 4s 28ms/step - loss: 0.2858 - sparse_categorical_accuracy: 0.8797 - val_loss: 0.3251 - val_sparse_categorical_accuracy: 0.8661\n",
      "Epoch 27/50\n",
      "157/157 [==============================] - 5s 31ms/step - loss: 0.2903 - sparse_categorical_accuracy: 0.8809 - val_loss: 0.3317 - val_sparse_categorical_accuracy: 0.8605\n",
      "Epoch 28/50\n",
      "157/157 [==============================] - 5s 29ms/step - loss: 0.2848 - sparse_categorical_accuracy: 0.8804 - val_loss: 0.3254 - val_sparse_categorical_accuracy: 0.8645\n",
      "Epoch 29/50\n",
      "157/157 [==============================] - 5s 31ms/step - loss: 0.2852 - sparse_categorical_accuracy: 0.8794 - val_loss: 0.3336 - val_sparse_categorical_accuracy: 0.8626\n",
      "Epoch 30/50\n",
      "157/157 [==============================] - 4s 28ms/step - loss: 0.2837 - sparse_categorical_accuracy: 0.8799 - val_loss: 0.3301 - val_sparse_categorical_accuracy: 0.8684\n",
      "Epoch 31/50\n",
      "157/157 [==============================] - 4s 28ms/step - loss: 0.2801 - sparse_categorical_accuracy: 0.8836 - val_loss: 0.3256 - val_sparse_categorical_accuracy: 0.8665\n",
      "Epoch 32/50\n",
      "157/157 [==============================] - 4s 28ms/step - loss: 0.2776 - sparse_categorical_accuracy: 0.8834 - val_loss: 0.3281 - val_sparse_categorical_accuracy: 0.8660\n",
      "Epoch 33/50\n",
      "157/157 [==============================] - 4s 28ms/step - loss: 0.2771 - sparse_categorical_accuracy: 0.8827 - val_loss: 0.3282 - val_sparse_categorical_accuracy: 0.8673\n",
      "Epoch 34/50\n",
      "157/157 [==============================] - 4s 28ms/step - loss: 0.2716 - sparse_categorical_accuracy: 0.8847 - val_loss: 0.3326 - val_sparse_categorical_accuracy: 0.8656\n",
      "Epoch 35/50\n",
      "157/157 [==============================] - 5s 29ms/step - loss: 0.2721 - sparse_categorical_accuracy: 0.8855 - val_loss: 0.3258 - val_sparse_categorical_accuracy: 0.8662\n",
      "Epoch 36/50\n",
      "157/157 [==============================] - 4s 28ms/step - loss: 0.2697 - sparse_categorical_accuracy: 0.8860 - val_loss: 0.3298 - val_sparse_categorical_accuracy: 0.8688\n",
      "Epoch 37/50\n",
      "157/157 [==============================] - 5s 31ms/step - loss: 0.2690 - sparse_categorical_accuracy: 0.8871 - val_loss: 0.3334 - val_sparse_categorical_accuracy: 0.8620\n",
      "Epoch 38/50\n",
      "157/157 [==============================] - 4s 28ms/step - loss: 0.2735 - sparse_categorical_accuracy: 0.8857 - val_loss: 0.3258 - val_sparse_categorical_accuracy: 0.8693\n",
      "Epoch 39/50\n",
      "157/157 [==============================] - 4s 28ms/step - loss: 0.2620 - sparse_categorical_accuracy: 0.8884 - val_loss: 0.3311 - val_sparse_categorical_accuracy: 0.8647\n",
      "Epoch 40/50\n",
      "157/157 [==============================] - 4s 28ms/step - loss: 0.2664 - sparse_categorical_accuracy: 0.8884 - val_loss: 0.3338 - val_sparse_categorical_accuracy: 0.8644\n",
      "Epoch 41/50\n",
      "157/157 [==============================] - 4s 28ms/step - loss: 0.2639 - sparse_categorical_accuracy: 0.8898 - val_loss: 0.3281 - val_sparse_categorical_accuracy: 0.8635\n",
      "Epoch 42/50\n",
      "157/157 [==============================] - 4s 28ms/step - loss: 0.2649 - sparse_categorical_accuracy: 0.8876 - val_loss: 0.3334 - val_sparse_categorical_accuracy: 0.8690\n",
      "Epoch 43/50\n",
      "157/157 [==============================] - 4s 28ms/step - loss: 0.2625 - sparse_categorical_accuracy: 0.8893 - val_loss: 0.3307 - val_sparse_categorical_accuracy: 0.8681\n",
      "Epoch 44/50\n",
      "157/157 [==============================] - 5s 29ms/step - loss: 0.2602 - sparse_categorical_accuracy: 0.8896 - val_loss: 0.3340 - val_sparse_categorical_accuracy: 0.8667\n",
      "Epoch 45/50\n",
      "157/157 [==============================] - 4s 28ms/step - loss: 0.2585 - sparse_categorical_accuracy: 0.8905 - val_loss: 0.3296 - val_sparse_categorical_accuracy: 0.8680\n",
      "Epoch 46/50\n",
      "157/157 [==============================] - 4s 28ms/step - loss: 0.2530 - sparse_categorical_accuracy: 0.8936 - val_loss: 0.3381 - val_sparse_categorical_accuracy: 0.8608\n",
      "Epoch 47/50\n",
      "157/157 [==============================] - 4s 28ms/step - loss: 0.2541 - sparse_categorical_accuracy: 0.8922 - val_loss: 0.3311 - val_sparse_categorical_accuracy: 0.8653\n",
      "Epoch 48/50\n",
      "157/157 [==============================] - 4s 28ms/step - loss: 0.2540 - sparse_categorical_accuracy: 0.8912 - val_loss: 0.3307 - val_sparse_categorical_accuracy: 0.8680\n",
      "Epoch 49/50\n",
      "157/157 [==============================] - 4s 28ms/step - loss: 0.2551 - sparse_categorical_accuracy: 0.8924 - val_loss: 0.3327 - val_sparse_categorical_accuracy: 0.8642\n",
      "Epoch 50/50\n",
      "157/157 [==============================] - 4s 28ms/step - loss: 0.2499 - sparse_categorical_accuracy: 0.8944 - val_loss: 0.3333 - val_sparse_categorical_accuracy: 0.8660\n",
      "Model: \"Projection_Model\"\n",
      "_________________________________________________________________\n",
      "Layer (type)                 Output Shape              Param #   \n",
      "=================================================================\n",
      "ResNet_Model_50 (Sequential) (None, 2048)              23564800  \n",
      "_________________________________________________________________\n",
      "dense_14 (Dense)             (None, 128)               262272    \n",
      "=================================================================\n",
      "Total params: 23,827,072\n",
      "Trainable params: 23,781,632\n",
      "Non-trainable params: 45,440\n",
      "_________________________________________________________________\n",
      "Epoch 1/50\n",
      "196/196 [==============================] - 23s 73ms/step - loss: 5.3047 - accuracy: 2.6000e-04\n",
      "Epoch 2/50\n",
      "196/196 [==============================] - 15s 78ms/step - loss: 5.0554 - accuracy: 0.0000e+00\n",
      "Epoch 3/50\n",
      "196/196 [==============================] - 15s 75ms/step - loss: 4.8754 - accuracy: 0.0000e+00\n",
      "Epoch 4/50\n",
      "196/196 [==============================] - 15s 78ms/step - loss: 4.7215 - accuracy: 0.0000e+00\n",
      "Epoch 5/50\n",
      "196/196 [==============================] - 14s 73ms/step - loss: 4.5825 - accuracy: 0.0000e+00\n",
      "Epoch 6/50\n",
      "196/196 [==============================] - 14s 74ms/step - loss: 4.4520 - accuracy: 0.0000e+00\n",
      "Epoch 7/50\n",
      "196/196 [==============================] - 14s 73ms/step - loss: 4.3261 - accuracy: 0.0000e+00\n",
      "Epoch 8/50\n",
      "196/196 [==============================] - 14s 73ms/step - loss: 4.2075 - accuracy: 0.0000e+00\n",
      "Epoch 9/50\n",
      "196/196 [==============================] - 14s 73ms/step - loss: 4.1072 - accuracy: 0.0000e+00\n",
      "Epoch 10/50\n",
      "196/196 [==============================] - 14s 72ms/step - loss: 4.0114 - accuracy: 0.0000e+00\n",
      "Epoch 11/50\n",
      "196/196 [==============================] - 14s 73ms/step - loss: 3.9344 - accuracy: 0.0000e+00\n",
      "Epoch 12/50\n",
      "196/196 [==============================] - 14s 73ms/step - loss: 3.8657 - accuracy: 0.0000e+00\n",
      "Epoch 13/50\n",
      "196/196 [==============================] - 14s 73ms/step - loss: 3.8118 - accuracy: 0.0000e+00\n",
      "Epoch 14/50\n",
      "196/196 [==============================] - 14s 72ms/step - loss: 3.7728 - accuracy: 0.0000e+00\n",
      "Epoch 15/50\n",
      "196/196 [==============================] - 14s 73ms/step - loss: 3.7320 - accuracy: 0.0000e+00\n",
      "Epoch 16/50\n",
      "196/196 [==============================] - 14s 73ms/step - loss: 3.7002 - accuracy: 0.0000e+00\n",
      "Epoch 17/50\n",
      "196/196 [==============================] - 14s 72ms/step - loss: 3.6689 - accuracy: 0.0000e+00\n",
      "Epoch 18/50\n",
      "196/196 [==============================] - 14s 73ms/step - loss: 3.6395 - accuracy: 0.0000e+00\n",
      "Epoch 19/50\n",
      "196/196 [==============================] - 14s 72ms/step - loss: 3.6165 - accuracy: 0.0000e+00\n",
      "Epoch 20/50\n",
      "196/196 [==============================] - 14s 73ms/step - loss: 3.5941 - accuracy: 0.0000e+00\n",
      "Epoch 21/50\n",
      "196/196 [==============================] - 14s 73ms/step - loss: 3.5673 - accuracy: 0.0000e+00\n",
      "Epoch 22/50\n",
      "196/196 [==============================] - 15s 76ms/step - loss: 3.5516 - accuracy: 0.0000e+00\n",
      "Epoch 23/50\n",
      "196/196 [==============================] - 15s 77ms/step - loss: 3.5279 - accuracy: 0.0000e+00\n",
      "Epoch 24/50\n",
      "196/196 [==============================] - 14s 73ms/step - loss: 3.5189 - accuracy: 0.0000e+00\n",
      "Epoch 25/50\n",
      "196/196 [==============================] - 14s 73ms/step - loss: 3.4977 - accuracy: 0.0000e+00\n",
      "Epoch 26/50\n",
      "196/196 [==============================] - 14s 73ms/step - loss: 3.4886 - accuracy: 0.0000e+00\n",
      "Epoch 27/50\n",
      "196/196 [==============================] - 14s 73ms/step - loss: 3.4758 - accuracy: 0.0000e+00\n",
      "Epoch 28/50\n",
      "196/196 [==============================] - 14s 73ms/step - loss: 3.4628 - accuracy: 0.0000e+00\n",
      "Epoch 29/50\n",
      "196/196 [==============================] - 14s 73ms/step - loss: 3.4602 - accuracy: 0.0000e+00\n",
      "Epoch 30/50\n",
      "196/196 [==============================] - 14s 72ms/step - loss: 3.4420 - accuracy: 0.0000e+00\n",
      "Epoch 31/50\n",
      "196/196 [==============================] - 14s 73ms/step - loss: 3.4469 - accuracy: 0.0000e+00\n",
      "Epoch 32/50\n",
      "196/196 [==============================] - 14s 73ms/step - loss: 3.4330 - accuracy: 0.0000e+00\n",
      "Epoch 33/50\n",
      "196/196 [==============================] - 14s 72ms/step - loss: 3.4264 - accuracy: 0.0000e+00\n",
      "Epoch 34/50\n",
      "196/196 [==============================] - 14s 73ms/step - loss: 3.4256 - accuracy: 0.0000e+00\n",
      "Epoch 35/50\n",
      "196/196 [==============================] - 14s 73ms/step - loss: 3.4148 - accuracy: 0.0000e+00\n",
      "Epoch 36/50\n",
      "196/196 [==============================] - 14s 73ms/step - loss: 3.4053 - accuracy: 0.0000e+00\n",
      "Epoch 37/50\n",
      "196/196 [==============================] - 14s 72ms/step - loss: 3.4040 - accuracy: 0.0000e+00\n",
      "Epoch 38/50\n",
      "196/196 [==============================] - 14s 73ms/step - loss: 3.3984 - accuracy: 0.0000e+00\n",
      "Epoch 39/50\n",
      "196/196 [==============================] - 14s 73ms/step - loss: 3.3936 - accuracy: 0.0000e+00\n",
      "Epoch 40/50\n",
      "196/196 [==============================] - 14s 73ms/step - loss: 3.3911 - accuracy: 0.0000e+00\n",
      "Epoch 41/50\n",
      "196/196 [==============================] - 15s 77ms/step - loss: 3.3891 - accuracy: 0.0000e+00\n",
      "Epoch 42/50\n",
      "196/196 [==============================] - 15s 76ms/step - loss: 3.3811 - accuracy: 0.0000e+00\n",
      "Epoch 43/50\n",
      "196/196 [==============================] - 14s 74ms/step - loss: 3.3865 - accuracy: 0.0000e+00\n",
      "Epoch 44/50\n",
      "196/196 [==============================] - 14s 72ms/step - loss: 3.3782 - accuracy: 0.0000e+00\n",
      "Epoch 45/50\n",
      "196/196 [==============================] - 14s 73ms/step - loss: 3.3776 - accuracy: 0.0000e+00\n",
      "Epoch 46/50\n",
      "196/196 [==============================] - 14s 73ms/step - loss: 3.3728 - accuracy: 0.0000e+00\n",
      "Epoch 47/50\n",
      "196/196 [==============================] - 14s 72ms/step - loss: 3.3714 - accuracy: 0.0000e+00\n",
      "Epoch 48/50\n",
      "196/196 [==============================] - 14s 73ms/step - loss: 3.3726 - accuracy: 0.0000e+00\n",
      "Epoch 49/50\n",
      "196/196 [==============================] - 14s 72ms/step - loss: 3.3688 - accuracy: 0.0000e+00\n",
      "Epoch 50/50\n",
      "196/196 [==============================] - 14s 73ms/step - loss: 3.3603 - accuracy: 0.0000e+00\n",
      "Model: \"Supervised_Contrastive_Model\"\n",
      "_________________________________________________________________\n",
      "Layer (type)                 Output Shape              Param #   \n",
      "=================================================================\n",
      "ResNet_Model_50 (Sequential) (None, 2048)              23564800  \n",
      "_________________________________________________________________\n",
      "dropout_10 (Dropout)         (None, 2048)              0         \n",
      "_________________________________________________________________\n",
      "dense_15 (Dense)             (None, 512)               1049088   \n",
      "_________________________________________________________________\n",
      "dropout_11 (Dropout)         (None, 512)               0         \n",
      "_________________________________________________________________\n",
      "dense_16 (Dense)             (None, 10)                5130      \n",
      "=================================================================\n",
      "Total params: 24,619,018\n",
      "Trainable params: 1,054,218\n",
      "Non-trainable params: 23,564,800\n",
      "_________________________________________________________________\n",
      "Epoch 1/50\n",
      "157/157 [==============================] - 8s 33ms/step - loss: 0.2033 - sparse_categorical_accuracy: 0.9486 - val_loss: 0.1319 - val_sparse_categorical_accuracy: 0.9600\n",
      "Epoch 2/50\n",
      "157/157 [==============================] - 4s 28ms/step - loss: 0.1529 - sparse_categorical_accuracy: 0.9572 - val_loss: 0.1252 - val_sparse_categorical_accuracy: 0.9606\n",
      "Epoch 3/50\n",
      "157/157 [==============================] - 4s 28ms/step - loss: 0.1463 - sparse_categorical_accuracy: 0.9576 - val_loss: 0.1214 - val_sparse_categorical_accuracy: 0.9619\n",
      "Epoch 4/50\n",
      "157/157 [==============================] - 5s 31ms/step - loss: 0.1448 - sparse_categorical_accuracy: 0.9588 - val_loss: 0.1230 - val_sparse_categorical_accuracy: 0.9612\n",
      "Epoch 5/50\n",
      "157/157 [==============================] - 4s 28ms/step - loss: 0.1431 - sparse_categorical_accuracy: 0.9585 - val_loss: 0.1205 - val_sparse_categorical_accuracy: 0.9621\n",
      "Epoch 6/50\n",
      "157/157 [==============================] - 5s 29ms/step - loss: 0.1409 - sparse_categorical_accuracy: 0.9589 - val_loss: 0.1221 - val_sparse_categorical_accuracy: 0.9615\n",
      "Epoch 7/50\n",
      "157/157 [==============================] - 4s 28ms/step - loss: 0.1379 - sparse_categorical_accuracy: 0.9596 - val_loss: 0.1210 - val_sparse_categorical_accuracy: 0.9613\n",
      "Epoch 8/50\n",
      "157/157 [==============================] - 5s 31ms/step - loss: 0.1366 - sparse_categorical_accuracy: 0.9589 - val_loss: 0.1195 - val_sparse_categorical_accuracy: 0.9615\n",
      "Epoch 9/50\n",
      "157/157 [==============================] - 5s 31ms/step - loss: 0.1379 - sparse_categorical_accuracy: 0.9596 - val_loss: 0.1199 - val_sparse_categorical_accuracy: 0.9614\n",
      "Epoch 10/50\n",
      "157/157 [==============================] - 5s 31ms/step - loss: 0.1352 - sparse_categorical_accuracy: 0.9595 - val_loss: 0.1202 - val_sparse_categorical_accuracy: 0.9623\n",
      "Epoch 11/50\n",
      "157/157 [==============================] - 4s 28ms/step - loss: 0.1342 - sparse_categorical_accuracy: 0.9603 - val_loss: 0.1204 - val_sparse_categorical_accuracy: 0.9613\n",
      "Epoch 12/50\n",
      "157/157 [==============================] - 4s 28ms/step - loss: 0.1331 - sparse_categorical_accuracy: 0.9596 - val_loss: 0.1190 - val_sparse_categorical_accuracy: 0.9622\n",
      "Epoch 13/50\n",
      "157/157 [==============================] - 4s 29ms/step - loss: 0.1349 - sparse_categorical_accuracy: 0.9589 - val_loss: 0.1201 - val_sparse_categorical_accuracy: 0.9614\n",
      "Epoch 14/50\n",
      "157/157 [==============================] - 4s 28ms/step - loss: 0.1347 - sparse_categorical_accuracy: 0.9604 - val_loss: 0.1196 - val_sparse_categorical_accuracy: 0.9615\n",
      "Epoch 15/50\n",
      "157/157 [==============================] - 5s 31ms/step - loss: 0.1339 - sparse_categorical_accuracy: 0.9607 - val_loss: 0.1213 - val_sparse_categorical_accuracy: 0.9600\n",
      "Epoch 16/50\n",
      "157/157 [==============================] - 4s 28ms/step - loss: 0.1347 - sparse_categorical_accuracy: 0.9598 - val_loss: 0.1220 - val_sparse_categorical_accuracy: 0.9622\n",
      "Epoch 17/50\n",
      "157/157 [==============================] - 4s 28ms/step - loss: 0.1332 - sparse_categorical_accuracy: 0.9600 - val_loss: 0.1197 - val_sparse_categorical_accuracy: 0.9615\n",
      "Epoch 18/50\n",
      "157/157 [==============================] - 4s 28ms/step - loss: 0.1342 - sparse_categorical_accuracy: 0.9602 - val_loss: 0.1207 - val_sparse_categorical_accuracy: 0.9620\n",
      "Epoch 19/50\n",
      "157/157 [==============================] - 4s 28ms/step - loss: 0.1336 - sparse_categorical_accuracy: 0.9602 - val_loss: 0.1188 - val_sparse_categorical_accuracy: 0.9620\n",
      "Epoch 20/50\n",
      "157/157 [==============================] - 5s 29ms/step - loss: 0.1303 - sparse_categorical_accuracy: 0.9611 - val_loss: 0.1176 - val_sparse_categorical_accuracy: 0.9617\n",
      "Epoch 21/50\n",
      "157/157 [==============================] - 4s 28ms/step - loss: 0.1341 - sparse_categorical_accuracy: 0.9595 - val_loss: 0.1188 - val_sparse_categorical_accuracy: 0.9615\n",
      "Epoch 22/50\n",
      "157/157 [==============================] - 4s 28ms/step - loss: 0.1324 - sparse_categorical_accuracy: 0.9597 - val_loss: 0.1197 - val_sparse_categorical_accuracy: 0.9628\n",
      "Epoch 23/50\n",
      "157/157 [==============================] - 5s 31ms/step - loss: 0.1323 - sparse_categorical_accuracy: 0.9593 - val_loss: 0.1176 - val_sparse_categorical_accuracy: 0.9618\n",
      "Epoch 24/50\n",
      "157/157 [==============================] - 4s 28ms/step - loss: 0.1298 - sparse_categorical_accuracy: 0.9604 - val_loss: 0.1192 - val_sparse_categorical_accuracy: 0.9624\n",
      "Epoch 25/50\n",
      "157/157 [==============================] - 4s 28ms/step - loss: 0.1318 - sparse_categorical_accuracy: 0.9611 - val_loss: 0.1214 - val_sparse_categorical_accuracy: 0.9618\n",
      "Epoch 26/50\n",
      "157/157 [==============================] - 4s 28ms/step - loss: 0.1299 - sparse_categorical_accuracy: 0.9607 - val_loss: 0.1196 - val_sparse_categorical_accuracy: 0.9629\n",
      "Epoch 27/50\n",
      "157/157 [==============================] - 4s 28ms/step - loss: 0.1318 - sparse_categorical_accuracy: 0.9606 - val_loss: 0.1197 - val_sparse_categorical_accuracy: 0.9612\n",
      "Epoch 28/50\n",
      "157/157 [==============================] - 4s 29ms/step - loss: 0.1290 - sparse_categorical_accuracy: 0.9612 - val_loss: 0.1193 - val_sparse_categorical_accuracy: 0.9615\n",
      "Epoch 29/50\n",
      "157/157 [==============================] - 5s 30ms/step - loss: 0.1312 - sparse_categorical_accuracy: 0.9604 - val_loss: 0.1218 - val_sparse_categorical_accuracy: 0.9614\n",
      "Epoch 30/50\n",
      "157/157 [==============================] - 5s 30ms/step - loss: 0.1292 - sparse_categorical_accuracy: 0.9606 - val_loss: 0.1219 - val_sparse_categorical_accuracy: 0.9610\n",
      "Epoch 31/50\n",
      "157/157 [==============================] - 5s 31ms/step - loss: 0.1306 - sparse_categorical_accuracy: 0.9610 - val_loss: 0.1192 - val_sparse_categorical_accuracy: 0.9626\n",
      "Epoch 32/50\n",
      "157/157 [==============================] - 5s 30ms/step - loss: 0.1281 - sparse_categorical_accuracy: 0.9608 - val_loss: 0.1201 - val_sparse_categorical_accuracy: 0.9621\n",
      "Epoch 33/50\n",
      "157/157 [==============================] - 5s 30ms/step - loss: 0.1292 - sparse_categorical_accuracy: 0.9599 - val_loss: 0.1201 - val_sparse_categorical_accuracy: 0.9608\n",
      "Epoch 34/50\n",
      "157/157 [==============================] - 5s 31ms/step - loss: 0.1289 - sparse_categorical_accuracy: 0.9606 - val_loss: 0.1211 - val_sparse_categorical_accuracy: 0.9611\n",
      "Epoch 35/50\n",
      "157/157 [==============================] - 5s 31ms/step - loss: 0.1290 - sparse_categorical_accuracy: 0.9607 - val_loss: 0.1232 - val_sparse_categorical_accuracy: 0.9597\n",
      "Epoch 36/50\n",
      "157/157 [==============================] - 5s 30ms/step - loss: 0.1263 - sparse_categorical_accuracy: 0.9612 - val_loss: 0.1219 - val_sparse_categorical_accuracy: 0.9619\n",
      "Epoch 37/50\n",
      "157/157 [==============================] - 5s 29ms/step - loss: 0.1303 - sparse_categorical_accuracy: 0.9604 - val_loss: 0.1202 - val_sparse_categorical_accuracy: 0.9633\n",
      "Epoch 38/50\n",
      "157/157 [==============================] - 4s 28ms/step - loss: 0.1294 - sparse_categorical_accuracy: 0.9610 - val_loss: 0.1221 - val_sparse_categorical_accuracy: 0.9624\n",
      "Epoch 39/50\n",
      "157/157 [==============================] - 4s 28ms/step - loss: 0.1284 - sparse_categorical_accuracy: 0.9611 - val_loss: 0.1223 - val_sparse_categorical_accuracy: 0.9627\n",
      "Epoch 40/50\n",
      "157/157 [==============================] - 4s 28ms/step - loss: 0.1299 - sparse_categorical_accuracy: 0.9613 - val_loss: 0.1245 - val_sparse_categorical_accuracy: 0.9623\n",
      "Epoch 41/50\n",
      "157/157 [==============================] - 4s 28ms/step - loss: 0.1273 - sparse_categorical_accuracy: 0.9612 - val_loss: 0.1202 - val_sparse_categorical_accuracy: 0.9615\n",
      "Epoch 42/50\n",
      "157/157 [==============================] - 5s 29ms/step - loss: 0.1297 - sparse_categorical_accuracy: 0.9610 - val_loss: 0.1204 - val_sparse_categorical_accuracy: 0.9605\n",
      "Epoch 43/50\n",
      "157/157 [==============================] - 4s 28ms/step - loss: 0.1273 - sparse_categorical_accuracy: 0.9606 - val_loss: 0.1227 - val_sparse_categorical_accuracy: 0.9611\n",
      "Epoch 44/50\n",
      "157/157 [==============================] - 4s 28ms/step - loss: 0.1278 - sparse_categorical_accuracy: 0.9601 - val_loss: 0.1202 - val_sparse_categorical_accuracy: 0.9623\n",
      "Epoch 45/50\n",
      "157/157 [==============================] - 4s 28ms/step - loss: 0.1313 - sparse_categorical_accuracy: 0.9611 - val_loss: 0.1249 - val_sparse_categorical_accuracy: 0.9606\n",
      "Epoch 46/50\n",
      "157/157 [==============================] - 4s 29ms/step - loss: 0.1262 - sparse_categorical_accuracy: 0.9602 - val_loss: 0.1218 - val_sparse_categorical_accuracy: 0.9628\n",
      "Epoch 47/50\n",
      "157/157 [==============================] - 4s 28ms/step - loss: 0.1288 - sparse_categorical_accuracy: 0.9609 - val_loss: 0.1214 - val_sparse_categorical_accuracy: 0.9615\n",
      "Epoch 48/50\n",
      "157/157 [==============================] - 4s 28ms/step - loss: 0.1263 - sparse_categorical_accuracy: 0.9610 - val_loss: 0.1231 - val_sparse_categorical_accuracy: 0.9628\n",
      "Epoch 49/50\n",
      "157/157 [==============================] - 5s 29ms/step - loss: 0.1261 - sparse_categorical_accuracy: 0.9611 - val_loss: 0.1234 - val_sparse_categorical_accuracy: 0.9608\n",
      "Epoch 50/50\n",
      "157/157 [==============================] - 5s 31ms/step - loss: 0.1272 - sparse_categorical_accuracy: 0.9607 - val_loss: 0.1224 - val_sparse_categorical_accuracy: 0.9615\n"
     ]
    }
   ],
   "source": [
    "model_hist_list = []\n",
    "for val in optimizers:\n",
    "    encoder_model_opt = train_encoder(optimizer=val)\n",
    "    model_scl_opt, history_scl_opt = train_classifier(encoder_model_opt)\n",
    "    model_hist_list.append(history_scl_opt)"
   ]
  },
  {
   "cell_type": "code",
   "execution_count": 40,
   "id": "8310d5d2",
   "metadata": {
    "execution": {
     "iopub.execute_input": "2022-05-03T19:02:21.282927Z",
     "iopub.status.busy": "2022-05-03T19:02:21.282094Z",
     "iopub.status.idle": "2022-05-03T19:02:21.458034Z",
     "shell.execute_reply": "2022-05-03T19:02:21.457564Z",
     "shell.execute_reply.started": "2022-05-03T17:14:30.238917Z"
    },
    "papermill": {
     "duration": 24.120469,
     "end_time": "2022-05-03T19:02:21.458157",
     "exception": false,
     "start_time": "2022-05-03T19:01:57.337688",
     "status": "completed"
    },
    "tags": []
   },
   "outputs": [
    {
     "data": {
      "image/png": "[encoded data removed]",
      "text/plain": [
       "<Figure size 432x288 with 1 Axes>"
      ]
     },
     "metadata": {
      "needs_background": "light"
     },
     "output_type": "display_data"
    }
   ],
   "source": [
    "plot_metric_mult(model_hist_list,'loss',optimizers)"
   ]
  },
  {
   "cell_type": "code",
   "execution_count": 41,
   "id": "48b289bd",
   "metadata": {
    "execution": {
     "iopub.execute_input": "2022-05-03T19:03:09.272623Z",
     "iopub.status.busy": "2022-05-03T19:03:09.270093Z",
     "iopub.status.idle": "2022-05-03T19:03:09.457207Z",
     "shell.execute_reply": "2022-05-03T19:03:09.457582Z",
     "shell.execute_reply.started": "2022-05-03T17:14:30.442831Z"
    },
    "papermill": {
     "duration": 23.894154,
     "end_time": "2022-05-03T19:03:09.457724",
     "exception": false,
     "start_time": "2022-05-03T19:02:45.563570",
     "status": "completed"
    },
    "tags": []
   },
   "outputs": [
    {
     "data": {
      "image/png": "[encoded data removed]",
      "text/plain": [
       "<Figure size 432x288 with 1 Axes>"
      ]
     },
     "metadata": {
      "needs_background": "light"
     },
     "output_type": "display_data"
    }
   ],
   "source": [
    "plot_metric_mult(model_hist_list,'sparse_categorical_accuracy',optimizers)"
   ]
  },
  {
   "cell_type": "markdown",
   "id": "cdc7f4a1",
   "metadata": {
    "papermill": {
     "duration": 23.900438,
     "end_time": "2022-05-03T19:03:56.661944",
     "exception": false,
     "start_time": "2022-05-03T19:03:32.761506",
     "status": "completed"
    },
    "tags": []
   },
   "source": [
    "### Embeddings Visualization"
   ]
  },
  {
   "cell_type": "code",
   "execution_count": 42,
   "id": "c288aac6",
   "metadata": {
    "execution": {
     "iopub.execute_input": "2022-05-03T19:04:44.268290Z",
     "iopub.status.busy": "2022-05-03T19:04:44.267606Z",
     "iopub.status.idle": "2022-05-03T19:05:31.107946Z",
     "shell.execute_reply": "2022-05-03T19:05:31.107082Z",
     "shell.execute_reply.started": "2022-05-03T17:14:30.656021Z"
    },
    "papermill": {
     "duration": 70.590611,
     "end_time": "2022-05-03T19:05:31.108103",
     "exception": false,
     "start_time": "2022-05-03T19:04:20.517492",
     "status": "completed"
    },
    "tags": []
   },
   "outputs": [],
   "source": [
    "from sklearn.decomposition import PCA\n",
    "\n",
    "scl_embeddings = encoder_model_50.predict(augmented_images)\n",
    "cle_embeddings = encoder_resnet.predict(augmented_images)\n",
    "\n",
    "pca = PCA(n_components=2)\n",
    "scl_embeddings_compressed = pca.fit_transform(scl_embeddings)\n",
    "cle_embeddings_compressed = pca.fit_transform(cle_embeddings)"
   ]
  },
  {
   "cell_type": "code",
   "execution_count": 43,
   "id": "4929cdf6",
   "metadata": {
    "execution": {
     "iopub.execute_input": "2022-05-03T19:06:18.209835Z",
     "iopub.status.busy": "2022-05-03T19:06:18.208787Z",
     "iopub.status.idle": "2022-05-03T19:06:19.144077Z",
     "shell.execute_reply": "2022-05-03T19:06:19.143620Z",
     "shell.execute_reply.started": "2022-05-03T17:15:17.376260Z"
    },
    "papermill": {
     "duration": 24.000823,
     "end_time": "2022-05-03T19:06:19.144209",
     "exception": false,
     "start_time": "2022-05-03T19:05:55.143386",
     "status": "completed"
    },
    "tags": []
   },
   "outputs": [
    {
     "data": {
      "image/png": "[encoded data removed]",
      "text/plain": [
       "<Figure size 432x288 with 2 Axes>"
      ]
     },
     "metadata": {
      "needs_background": "light"
     },
     "output_type": "display_data"
    }
   ],
   "source": [
    "scatter = plt.scatter(cle_embeddings_compressed[:,0],cle_embeddings_compressed[:,1],c=trainY)\n",
    "plt.xlabel('X1')\n",
    "plt.ylabel('X2')\n",
    "plt.colorbar(scatter)\n",
    "plt.title(\"Cross Entropy Loss Embeddings Visualization\")\n",
    "plt.show()"
   ]
  },
  {
   "cell_type": "code",
   "execution_count": 44,
   "id": "5d13f0fc",
   "metadata": {
    "execution": {
     "iopub.execute_input": "2022-05-03T19:07:07.143234Z",
     "iopub.status.busy": "2022-05-03T19:07:07.137347Z",
     "iopub.status.idle": "2022-05-03T19:07:08.227443Z",
     "shell.execute_reply": "2022-05-03T19:07:08.227942Z",
     "shell.execute_reply.started": "2022-05-03T17:15:18.361416Z"
    },
    "papermill": {
     "duration": 25.20206,
     "end_time": "2022-05-03T19:07:08.228101",
     "exception": false,
     "start_time": "2022-05-03T19:06:43.026041",
     "status": "completed"
    },
    "tags": []
   },
   "outputs": [
    {
     "data": {
      "image/png": "[encoded data removed]",
      "text/plain": [
       "<Figure size 432x288 with 2 Axes>"
      ]
     },
     "metadata": {
      "needs_background": "light"
     },
     "output_type": "display_data"
    }
   ],
   "source": [
    "scatter = plt.scatter(scl_embeddings_compressed[:,0],scl_embeddings_compressed[:,1],c=trainY)\n",
    "plt.xlabel('X1')\n",
    "plt.ylabel('X2')\n",
    "plt.colorbar(scatter)\n",
    "plt.title(\"Supervised Contrastive Loss Embeddings Visualization\")\n",
    "plt.show()"
   ]
  },
  {
   "cell_type": "markdown",
   "id": "7b95c6f5",
   "metadata": {
    "papermill": {
     "duration": 23.955289,
     "end_time": "2022-05-03T19:07:55.352497",
     "exception": false,
     "start_time": "2022-05-03T19:07:31.397208",
     "status": "completed"
    },
    "tags": []
   },
   "source": [
    "It is expected that the embedding trained using supervised contrastive learning will be much more clustered than the embedding trained using regular cross-entropy since the supervised contrastive learning rewards the model from pushing apart instances from different classes. "
   ]
  }
 ],
 "metadata": {
  "kernelspec": {
   "display_name": "Python 3",
   "language": "python",
   "name": "python3"
  },
  "language_info": {
   "codemirror_mode": {
    "name": "ipython",
    "version": 3
   },
   "file_extension": ".py",
   "mimetype": "text/x-python",
   "name": "python",
   "nbconvert_exporter": "python",
   "pygments_lexer": "ipython3",
   "version": "3.7.12"
  },
  "papermill": {
   "default_parameters": {},
   "duration": 6729.09301,
   "end_time": "2022-05-03T19:08:21.987599",
   "environment_variables": {},
   "exception": null,
   "input_path": "__notebook__.ipynb",
   "output_path": "__notebook__.ipynb",
   "parameters": {},
   "start_time": "2022-05-03T17:16:12.894589",
   "version": "2.3.3"
  }
 },
 "nbformat": 4,
 "nbformat_minor": 5
}
